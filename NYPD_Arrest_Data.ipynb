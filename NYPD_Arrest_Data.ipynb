{
  "cells": [
    {
      "cell_type": "markdown",
      "metadata": {
        "id": "view-in-github",
        "colab_type": "text"
      },
      "source": [
        "<a href=\"https://colab.research.google.com/github/mouhamedmarega/Python-Projects/blob/main/NYPD_Arrest_Data.ipynb\" target=\"_parent\"><img src=\"https://colab.research.google.com/assets/colab-badge.svg\" alt=\"Open In Colab\"/></a>"
      ]
    },
    {
      "cell_type": "code",
      "execution_count": 26,
      "metadata": {
        "id": "XAdHMpj3rMn7"
      },
      "outputs": [],
      "source": [
        "import pandas as pd"
      ]
    },
    {
      "cell_type": "code",
      "execution_count": 27,
      "metadata": {
        "id": "wGi6vrWvrQ9l"
      },
      "outputs": [],
      "source": [
        "import numpy as np"
      ]
    },
    {
      "cell_type": "code",
      "execution_count": 28,
      "metadata": {
        "id": "7f2XekQwry3G"
      },
      "outputs": [],
      "source": [
        "import matplotlib.pyplot as plot"
      ]
    },
    {
      "cell_type": "code",
      "source": [
        "import seaborn as sns"
      ],
      "metadata": {
        "id": "_B_tc2gzqSbB"
      },
      "execution_count": 29,
      "outputs": []
    },
    {
      "cell_type": "code",
      "source": [
        "import calendar"
      ],
      "metadata": {
        "id": "kCyGMddrbYWv"
      },
      "execution_count": 30,
      "outputs": []
    },
    {
      "cell_type": "code",
      "source": [
        "#from encodings.aliases import aliases # Python has a file containing a dictionary of encoding names and associated aliases\n"
      ],
      "metadata": {
        "id": "RY-xxYeyzQp0"
      },
      "execution_count": 31,
      "outputs": []
    },
    {
      "cell_type": "code",
      "source": [
        "# the matplotlib plots will appear directly below the cell in which the plot function was called.\n",
        "%matplotlib inline"
      ],
      "metadata": {
        "id": "sbbkkLN70THm"
      },
      "execution_count": 32,
      "outputs": []
    },
    {
      "cell_type": "markdown",
      "source": [
        "# **Read in the csv files and remove duplicates**"
      ],
      "metadata": {
        "id": "1rcCms9H_T1Y"
      }
    },
    {
      "cell_type": "code",
      "source": [
        "nypdarrest = pd.read_csv(\"/content/NYPD_Arrest_Data__Year_to_Date_.csv\")"
      ],
      "metadata": {
        "id": "DmF_JeNX_TA6"
      },
      "execution_count": 33,
      "outputs": []
    },
    {
      "cell_type": "code",
      "source": [
        "nypdarrest.head()"
      ],
      "metadata": {
        "colab": {
          "base_uri": "https://localhost:8080/",
          "height": 490
        },
        "id": "nkHmw5HH1P4F",
        "outputId": "76708832-4a45-4755-f626-f2fccc5305a1"
      },
      "execution_count": 34,
      "outputs": [
        {
          "output_type": "execute_result",
          "data": {
            "text/plain": [
              "   ARREST_KEY ARREST_DATE  PD_CD              PD_DESC  KY_CD OFNS_DESC  \\\n",
              "0   263238742  02/08/2023  380.0  ROBBERY,CAR JACKING  105.0   ROBBERY   \n",
              "1   265590985  03/24/2023  155.0               RAPE 2  104.0      RAPE   \n",
              "2   265798132  03/28/2023  157.0               RAPE 1  104.0      RAPE   \n",
              "3   269233687  06/02/2023  157.0               RAPE 1  104.0      RAPE   \n",
              "4   270519574  06/28/2023  157.0               RAPE 1  104.0      RAPE   \n",
              "\n",
              "     LAW_CODE LAW_CAT_CD ARREST_BORO  ARREST_PRECINCT  ...  X_COORD_CD  \\\n",
              "0  PL 1601003          F           K               62  ...      989904   \n",
              "1  PL 1303001          F           S              120  ...      962873   \n",
              "2  PL 1303501          F           S              120  ...      962873   \n",
              "3  PL 1303501          F           Q              110  ...     1019164   \n",
              "4  PL 1303501          F           K               84  ...      988902   \n",
              "\n",
              "  Y_COORD_CD   Latitude  Longitude  \\\n",
              "0     156928  40.597407 -73.979638   \n",
              "1     174172  40.644721 -74.077033   \n",
              "2     174172  40.644721 -74.077033   \n",
              "3     210169  40.743481 -73.874004   \n",
              "4     192641  40.695439 -73.983225   \n",
              "\n",
              "                     New Georeferenced Column  Community Districts  \\\n",
              "0                POINT (-73.979638 40.597407)                  1.0   \n",
              "1  POINT (-74.0770327198983 40.6447209438691)                  4.0   \n",
              "2  POINT (-74.0770327198983 40.6447209438691)                  4.0   \n",
              "3  POINT (-73.8740035373971 40.7434812638841)                 66.0   \n",
              "4  POINT (-73.9832253756043 40.6954388081238)                 68.0   \n",
              "\n",
              "   Borough Boundaries  City Council Districts Police Precincts  Zip Codes  \n",
              "0                 2.0                    45.0             37.0    18183.0  \n",
              "1                 1.0                    13.0             74.0    10369.0  \n",
              "2                 1.0                    13.0             74.0    10369.0  \n",
              "3                 3.0                     5.0             68.0    14784.0  \n",
              "4                 2.0                    48.0             54.0    16865.0  \n",
              "\n",
              "[5 rows x 24 columns]"
            ],
            "text/html": [
              "\n",
              "\n",
              "  <div id=\"df-00f929dc-b3c5-4dc3-9fd6-507dac440355\">\n",
              "    <div class=\"colab-df-container\">\n",
              "      <div>\n",
              "<style scoped>\n",
              "    .dataframe tbody tr th:only-of-type {\n",
              "        vertical-align: middle;\n",
              "    }\n",
              "\n",
              "    .dataframe tbody tr th {\n",
              "        vertical-align: top;\n",
              "    }\n",
              "\n",
              "    .dataframe thead th {\n",
              "        text-align: right;\n",
              "    }\n",
              "</style>\n",
              "<table border=\"1\" class=\"dataframe\">\n",
              "  <thead>\n",
              "    <tr style=\"text-align: right;\">\n",
              "      <th></th>\n",
              "      <th>ARREST_KEY</th>\n",
              "      <th>ARREST_DATE</th>\n",
              "      <th>PD_CD</th>\n",
              "      <th>PD_DESC</th>\n",
              "      <th>KY_CD</th>\n",
              "      <th>OFNS_DESC</th>\n",
              "      <th>LAW_CODE</th>\n",
              "      <th>LAW_CAT_CD</th>\n",
              "      <th>ARREST_BORO</th>\n",
              "      <th>ARREST_PRECINCT</th>\n",
              "      <th>...</th>\n",
              "      <th>X_COORD_CD</th>\n",
              "      <th>Y_COORD_CD</th>\n",
              "      <th>Latitude</th>\n",
              "      <th>Longitude</th>\n",
              "      <th>New Georeferenced Column</th>\n",
              "      <th>Community Districts</th>\n",
              "      <th>Borough Boundaries</th>\n",
              "      <th>City Council Districts</th>\n",
              "      <th>Police Precincts</th>\n",
              "      <th>Zip Codes</th>\n",
              "    </tr>\n",
              "  </thead>\n",
              "  <tbody>\n",
              "    <tr>\n",
              "      <th>0</th>\n",
              "      <td>263238742</td>\n",
              "      <td>02/08/2023</td>\n",
              "      <td>380.0</td>\n",
              "      <td>ROBBERY,CAR JACKING</td>\n",
              "      <td>105.0</td>\n",
              "      <td>ROBBERY</td>\n",
              "      <td>PL 1601003</td>\n",
              "      <td>F</td>\n",
              "      <td>K</td>\n",
              "      <td>62</td>\n",
              "      <td>...</td>\n",
              "      <td>989904</td>\n",
              "      <td>156928</td>\n",
              "      <td>40.597407</td>\n",
              "      <td>-73.979638</td>\n",
              "      <td>POINT (-73.979638 40.597407)</td>\n",
              "      <td>1.0</td>\n",
              "      <td>2.0</td>\n",
              "      <td>45.0</td>\n",
              "      <td>37.0</td>\n",
              "      <td>18183.0</td>\n",
              "    </tr>\n",
              "    <tr>\n",
              "      <th>1</th>\n",
              "      <td>265590985</td>\n",
              "      <td>03/24/2023</td>\n",
              "      <td>155.0</td>\n",
              "      <td>RAPE 2</td>\n",
              "      <td>104.0</td>\n",
              "      <td>RAPE</td>\n",
              "      <td>PL 1303001</td>\n",
              "      <td>F</td>\n",
              "      <td>S</td>\n",
              "      <td>120</td>\n",
              "      <td>...</td>\n",
              "      <td>962873</td>\n",
              "      <td>174172</td>\n",
              "      <td>40.644721</td>\n",
              "      <td>-74.077033</td>\n",
              "      <td>POINT (-74.0770327198983 40.6447209438691)</td>\n",
              "      <td>4.0</td>\n",
              "      <td>1.0</td>\n",
              "      <td>13.0</td>\n",
              "      <td>74.0</td>\n",
              "      <td>10369.0</td>\n",
              "    </tr>\n",
              "    <tr>\n",
              "      <th>2</th>\n",
              "      <td>265798132</td>\n",
              "      <td>03/28/2023</td>\n",
              "      <td>157.0</td>\n",
              "      <td>RAPE 1</td>\n",
              "      <td>104.0</td>\n",
              "      <td>RAPE</td>\n",
              "      <td>PL 1303501</td>\n",
              "      <td>F</td>\n",
              "      <td>S</td>\n",
              "      <td>120</td>\n",
              "      <td>...</td>\n",
              "      <td>962873</td>\n",
              "      <td>174172</td>\n",
              "      <td>40.644721</td>\n",
              "      <td>-74.077033</td>\n",
              "      <td>POINT (-74.0770327198983 40.6447209438691)</td>\n",
              "      <td>4.0</td>\n",
              "      <td>1.0</td>\n",
              "      <td>13.0</td>\n",
              "      <td>74.0</td>\n",
              "      <td>10369.0</td>\n",
              "    </tr>\n",
              "    <tr>\n",
              "      <th>3</th>\n",
              "      <td>269233687</td>\n",
              "      <td>06/02/2023</td>\n",
              "      <td>157.0</td>\n",
              "      <td>RAPE 1</td>\n",
              "      <td>104.0</td>\n",
              "      <td>RAPE</td>\n",
              "      <td>PL 1303501</td>\n",
              "      <td>F</td>\n",
              "      <td>Q</td>\n",
              "      <td>110</td>\n",
              "      <td>...</td>\n",
              "      <td>1019164</td>\n",
              "      <td>210169</td>\n",
              "      <td>40.743481</td>\n",
              "      <td>-73.874004</td>\n",
              "      <td>POINT (-73.8740035373971 40.7434812638841)</td>\n",
              "      <td>66.0</td>\n",
              "      <td>3.0</td>\n",
              "      <td>5.0</td>\n",
              "      <td>68.0</td>\n",
              "      <td>14784.0</td>\n",
              "    </tr>\n",
              "    <tr>\n",
              "      <th>4</th>\n",
              "      <td>270519574</td>\n",
              "      <td>06/28/2023</td>\n",
              "      <td>157.0</td>\n",
              "      <td>RAPE 1</td>\n",
              "      <td>104.0</td>\n",
              "      <td>RAPE</td>\n",
              "      <td>PL 1303501</td>\n",
              "      <td>F</td>\n",
              "      <td>K</td>\n",
              "      <td>84</td>\n",
              "      <td>...</td>\n",
              "      <td>988902</td>\n",
              "      <td>192641</td>\n",
              "      <td>40.695439</td>\n",
              "      <td>-73.983225</td>\n",
              "      <td>POINT (-73.9832253756043 40.6954388081238)</td>\n",
              "      <td>68.0</td>\n",
              "      <td>2.0</td>\n",
              "      <td>48.0</td>\n",
              "      <td>54.0</td>\n",
              "      <td>16865.0</td>\n",
              "    </tr>\n",
              "  </tbody>\n",
              "</table>\n",
              "<p>5 rows × 24 columns</p>\n",
              "</div>\n",
              "      <button class=\"colab-df-convert\" onclick=\"convertToInteractive('df-00f929dc-b3c5-4dc3-9fd6-507dac440355')\"\n",
              "              title=\"Convert this dataframe to an interactive table.\"\n",
              "              style=\"display:none;\">\n",
              "\n",
              "  <svg xmlns=\"http://www.w3.org/2000/svg\" height=\"24px\"viewBox=\"0 0 24 24\"\n",
              "       width=\"24px\">\n",
              "    <path d=\"M0 0h24v24H0V0z\" fill=\"none\"/>\n",
              "    <path d=\"M18.56 5.44l.94 2.06.94-2.06 2.06-.94-2.06-.94-.94-2.06-.94 2.06-2.06.94zm-11 1L8.5 8.5l.94-2.06 2.06-.94-2.06-.94L8.5 2.5l-.94 2.06-2.06.94zm10 10l.94 2.06.94-2.06 2.06-.94-2.06-.94-.94-2.06-.94 2.06-2.06.94z\"/><path d=\"M17.41 7.96l-1.37-1.37c-.4-.4-.92-.59-1.43-.59-.52 0-1.04.2-1.43.59L10.3 9.45l-7.72 7.72c-.78.78-.78 2.05 0 2.83L4 21.41c.39.39.9.59 1.41.59.51 0 1.02-.2 1.41-.59l7.78-7.78 2.81-2.81c.8-.78.8-2.07 0-2.86zM5.41 20L4 18.59l7.72-7.72 1.47 1.35L5.41 20z\"/>\n",
              "  </svg>\n",
              "      </button>\n",
              "\n",
              "\n",
              "\n",
              "    <div id=\"df-4f25aadd-899b-4f2a-a2c0-2839daba4391\">\n",
              "      <button class=\"colab-df-quickchart\" onclick=\"quickchart('df-4f25aadd-899b-4f2a-a2c0-2839daba4391')\"\n",
              "              title=\"Suggest charts.\"\n",
              "              style=\"display:none;\">\n",
              "\n",
              "<svg xmlns=\"http://www.w3.org/2000/svg\" height=\"24px\"viewBox=\"0 0 24 24\"\n",
              "     width=\"24px\">\n",
              "    <g>\n",
              "        <path d=\"M19 3H5c-1.1 0-2 .9-2 2v14c0 1.1.9 2 2 2h14c1.1 0 2-.9 2-2V5c0-1.1-.9-2-2-2zM9 17H7v-7h2v7zm4 0h-2V7h2v10zm4 0h-2v-4h2v4z\"/>\n",
              "    </g>\n",
              "</svg>\n",
              "      </button>\n",
              "    </div>\n",
              "\n",
              "<style>\n",
              "  .colab-df-quickchart {\n",
              "    background-color: #E8F0FE;\n",
              "    border: none;\n",
              "    border-radius: 50%;\n",
              "    cursor: pointer;\n",
              "    display: none;\n",
              "    fill: #1967D2;\n",
              "    height: 32px;\n",
              "    padding: 0 0 0 0;\n",
              "    width: 32px;\n",
              "  }\n",
              "\n",
              "  .colab-df-quickchart:hover {\n",
              "    background-color: #E2EBFA;\n",
              "    box-shadow: 0px 1px 2px rgba(60, 64, 67, 0.3), 0px 1px 3px 1px rgba(60, 64, 67, 0.15);\n",
              "    fill: #174EA6;\n",
              "  }\n",
              "\n",
              "  [theme=dark] .colab-df-quickchart {\n",
              "    background-color: #3B4455;\n",
              "    fill: #D2E3FC;\n",
              "  }\n",
              "\n",
              "  [theme=dark] .colab-df-quickchart:hover {\n",
              "    background-color: #434B5C;\n",
              "    box-shadow: 0px 1px 3px 1px rgba(0, 0, 0, 0.15);\n",
              "    filter: drop-shadow(0px 1px 2px rgba(0, 0, 0, 0.3));\n",
              "    fill: #FFFFFF;\n",
              "  }\n",
              "</style>\n",
              "\n",
              "    <script>\n",
              "      async function quickchart(key) {\n",
              "        const containerElement = document.querySelector('#' + key);\n",
              "        const charts = await google.colab.kernel.invokeFunction(\n",
              "            'suggestCharts', [key], {});\n",
              "      }\n",
              "    </script>\n",
              "\n",
              "\n",
              "      <script>\n",
              "\n",
              "function displayQuickchartButton(domScope) {\n",
              "  let quickchartButtonEl =\n",
              "    domScope.querySelector('#df-4f25aadd-899b-4f2a-a2c0-2839daba4391 button.colab-df-quickchart');\n",
              "  quickchartButtonEl.style.display =\n",
              "    google.colab.kernel.accessAllowed ? 'block' : 'none';\n",
              "}\n",
              "\n",
              "        displayQuickchartButton(document);\n",
              "      </script>\n",
              "      <style>\n",
              "    .colab-df-container {\n",
              "      display:flex;\n",
              "      flex-wrap:wrap;\n",
              "      gap: 12px;\n",
              "    }\n",
              "\n",
              "    .colab-df-convert {\n",
              "      background-color: #E8F0FE;\n",
              "      border: none;\n",
              "      border-radius: 50%;\n",
              "      cursor: pointer;\n",
              "      display: none;\n",
              "      fill: #1967D2;\n",
              "      height: 32px;\n",
              "      padding: 0 0 0 0;\n",
              "      width: 32px;\n",
              "    }\n",
              "\n",
              "    .colab-df-convert:hover {\n",
              "      background-color: #E2EBFA;\n",
              "      box-shadow: 0px 1px 2px rgba(60, 64, 67, 0.3), 0px 1px 3px 1px rgba(60, 64, 67, 0.15);\n",
              "      fill: #174EA6;\n",
              "    }\n",
              "\n",
              "    [theme=dark] .colab-df-convert {\n",
              "      background-color: #3B4455;\n",
              "      fill: #D2E3FC;\n",
              "    }\n",
              "\n",
              "    [theme=dark] .colab-df-convert:hover {\n",
              "      background-color: #434B5C;\n",
              "      box-shadow: 0px 1px 3px 1px rgba(0, 0, 0, 0.15);\n",
              "      filter: drop-shadow(0px 1px 2px rgba(0, 0, 0, 0.3));\n",
              "      fill: #FFFFFF;\n",
              "    }\n",
              "  </style>\n",
              "\n",
              "      <script>\n",
              "        const buttonEl =\n",
              "          document.querySelector('#df-00f929dc-b3c5-4dc3-9fd6-507dac440355 button.colab-df-convert');\n",
              "        buttonEl.style.display =\n",
              "          google.colab.kernel.accessAllowed ? 'block' : 'none';\n",
              "\n",
              "        async function convertToInteractive(key) {\n",
              "          const element = document.querySelector('#df-00f929dc-b3c5-4dc3-9fd6-507dac440355');\n",
              "          const dataTable =\n",
              "            await google.colab.kernel.invokeFunction('convertToInteractive',\n",
              "                                                     [key], {});\n",
              "          if (!dataTable) return;\n",
              "\n",
              "          const docLinkHtml = 'Like what you see? Visit the ' +\n",
              "            '<a target=\"_blank\" href=https://colab.research.google.com/notebooks/data_table.ipynb>data table notebook</a>'\n",
              "            + ' to learn more about interactive tables.';\n",
              "          element.innerHTML = '';\n",
              "          dataTable['output_type'] = 'display_data';\n",
              "          await google.colab.output.renderOutput(dataTable, element);\n",
              "          const docLink = document.createElement('div');\n",
              "          docLink.innerHTML = docLinkHtml;\n",
              "          element.appendChild(docLink);\n",
              "        }\n",
              "      </script>\n",
              "    </div>\n",
              "  </div>\n"
            ]
          },
          "metadata": {},
          "execution_count": 34
        }
      ]
    },
    {
      "cell_type": "code",
      "execution_count": 35,
      "metadata": {
        "colab": {
          "base_uri": "https://localhost:8080/"
        },
        "id": "_0Cgr5NCva6w",
        "outputId": "71f2b81f-99b0-4a62-e2c6-fb08ad11d4cd"
      },
      "outputs": [
        {
          "output_type": "execute_result",
          "data": {
            "text/plain": [
              "(112571, 24)"
            ]
          },
          "metadata": {},
          "execution_count": 35
        }
      ],
      "source": [
        "nypdarrest.shape ## Checking the shape of the data. It has 319,073 rows and 17 columns"
      ]
    },
    {
      "cell_type": "code",
      "source": [
        "nypdarrest.duplicated().sum() # Counting the duplicate rows"
      ],
      "metadata": {
        "colab": {
          "base_uri": "https://localhost:8080/"
        },
        "id": "kVegw12i2ELj",
        "outputId": "c648cff3-d970-4739-f93e-7999b6d8c669"
      },
      "execution_count": 36,
      "outputs": [
        {
          "output_type": "execute_result",
          "data": {
            "text/plain": [
              "0"
            ]
          },
          "metadata": {},
          "execution_count": 36
        }
      ]
    },
    {
      "cell_type": "markdown",
      "source": [
        "# **Explore the dataset**"
      ],
      "metadata": {
        "id": "xr22rwVC_2Le"
      }
    },
    {
      "cell_type": "code",
      "source": [
        "nypdarrest.head() # Quick check of the beginning of the dataframe"
      ],
      "metadata": {
        "colab": {
          "base_uri": "https://localhost:8080/",
          "height": 490
        },
        "id": "c9y8nQvZ255t",
        "outputId": "34340a40-e172-4ec7-f436-2f5bfd8d5443"
      },
      "execution_count": 37,
      "outputs": [
        {
          "output_type": "execute_result",
          "data": {
            "text/plain": [
              "   ARREST_KEY ARREST_DATE  PD_CD              PD_DESC  KY_CD OFNS_DESC  \\\n",
              "0   263238742  02/08/2023  380.0  ROBBERY,CAR JACKING  105.0   ROBBERY   \n",
              "1   265590985  03/24/2023  155.0               RAPE 2  104.0      RAPE   \n",
              "2   265798132  03/28/2023  157.0               RAPE 1  104.0      RAPE   \n",
              "3   269233687  06/02/2023  157.0               RAPE 1  104.0      RAPE   \n",
              "4   270519574  06/28/2023  157.0               RAPE 1  104.0      RAPE   \n",
              "\n",
              "     LAW_CODE LAW_CAT_CD ARREST_BORO  ARREST_PRECINCT  ...  X_COORD_CD  \\\n",
              "0  PL 1601003          F           K               62  ...      989904   \n",
              "1  PL 1303001          F           S              120  ...      962873   \n",
              "2  PL 1303501          F           S              120  ...      962873   \n",
              "3  PL 1303501          F           Q              110  ...     1019164   \n",
              "4  PL 1303501          F           K               84  ...      988902   \n",
              "\n",
              "  Y_COORD_CD   Latitude  Longitude  \\\n",
              "0     156928  40.597407 -73.979638   \n",
              "1     174172  40.644721 -74.077033   \n",
              "2     174172  40.644721 -74.077033   \n",
              "3     210169  40.743481 -73.874004   \n",
              "4     192641  40.695439 -73.983225   \n",
              "\n",
              "                     New Georeferenced Column  Community Districts  \\\n",
              "0                POINT (-73.979638 40.597407)                  1.0   \n",
              "1  POINT (-74.0770327198983 40.6447209438691)                  4.0   \n",
              "2  POINT (-74.0770327198983 40.6447209438691)                  4.0   \n",
              "3  POINT (-73.8740035373971 40.7434812638841)                 66.0   \n",
              "4  POINT (-73.9832253756043 40.6954388081238)                 68.0   \n",
              "\n",
              "   Borough Boundaries  City Council Districts Police Precincts  Zip Codes  \n",
              "0                 2.0                    45.0             37.0    18183.0  \n",
              "1                 1.0                    13.0             74.0    10369.0  \n",
              "2                 1.0                    13.0             74.0    10369.0  \n",
              "3                 3.0                     5.0             68.0    14784.0  \n",
              "4                 2.0                    48.0             54.0    16865.0  \n",
              "\n",
              "[5 rows x 24 columns]"
            ],
            "text/html": [
              "\n",
              "\n",
              "  <div id=\"df-8e24ec62-d410-4d32-adaa-574516bfda7a\">\n",
              "    <div class=\"colab-df-container\">\n",
              "      <div>\n",
              "<style scoped>\n",
              "    .dataframe tbody tr th:only-of-type {\n",
              "        vertical-align: middle;\n",
              "    }\n",
              "\n",
              "    .dataframe tbody tr th {\n",
              "        vertical-align: top;\n",
              "    }\n",
              "\n",
              "    .dataframe thead th {\n",
              "        text-align: right;\n",
              "    }\n",
              "</style>\n",
              "<table border=\"1\" class=\"dataframe\">\n",
              "  <thead>\n",
              "    <tr style=\"text-align: right;\">\n",
              "      <th></th>\n",
              "      <th>ARREST_KEY</th>\n",
              "      <th>ARREST_DATE</th>\n",
              "      <th>PD_CD</th>\n",
              "      <th>PD_DESC</th>\n",
              "      <th>KY_CD</th>\n",
              "      <th>OFNS_DESC</th>\n",
              "      <th>LAW_CODE</th>\n",
              "      <th>LAW_CAT_CD</th>\n",
              "      <th>ARREST_BORO</th>\n",
              "      <th>ARREST_PRECINCT</th>\n",
              "      <th>...</th>\n",
              "      <th>X_COORD_CD</th>\n",
              "      <th>Y_COORD_CD</th>\n",
              "      <th>Latitude</th>\n",
              "      <th>Longitude</th>\n",
              "      <th>New Georeferenced Column</th>\n",
              "      <th>Community Districts</th>\n",
              "      <th>Borough Boundaries</th>\n",
              "      <th>City Council Districts</th>\n",
              "      <th>Police Precincts</th>\n",
              "      <th>Zip Codes</th>\n",
              "    </tr>\n",
              "  </thead>\n",
              "  <tbody>\n",
              "    <tr>\n",
              "      <th>0</th>\n",
              "      <td>263238742</td>\n",
              "      <td>02/08/2023</td>\n",
              "      <td>380.0</td>\n",
              "      <td>ROBBERY,CAR JACKING</td>\n",
              "      <td>105.0</td>\n",
              "      <td>ROBBERY</td>\n",
              "      <td>PL 1601003</td>\n",
              "      <td>F</td>\n",
              "      <td>K</td>\n",
              "      <td>62</td>\n",
              "      <td>...</td>\n",
              "      <td>989904</td>\n",
              "      <td>156928</td>\n",
              "      <td>40.597407</td>\n",
              "      <td>-73.979638</td>\n",
              "      <td>POINT (-73.979638 40.597407)</td>\n",
              "      <td>1.0</td>\n",
              "      <td>2.0</td>\n",
              "      <td>45.0</td>\n",
              "      <td>37.0</td>\n",
              "      <td>18183.0</td>\n",
              "    </tr>\n",
              "    <tr>\n",
              "      <th>1</th>\n",
              "      <td>265590985</td>\n",
              "      <td>03/24/2023</td>\n",
              "      <td>155.0</td>\n",
              "      <td>RAPE 2</td>\n",
              "      <td>104.0</td>\n",
              "      <td>RAPE</td>\n",
              "      <td>PL 1303001</td>\n",
              "      <td>F</td>\n",
              "      <td>S</td>\n",
              "      <td>120</td>\n",
              "      <td>...</td>\n",
              "      <td>962873</td>\n",
              "      <td>174172</td>\n",
              "      <td>40.644721</td>\n",
              "      <td>-74.077033</td>\n",
              "      <td>POINT (-74.0770327198983 40.6447209438691)</td>\n",
              "      <td>4.0</td>\n",
              "      <td>1.0</td>\n",
              "      <td>13.0</td>\n",
              "      <td>74.0</td>\n",
              "      <td>10369.0</td>\n",
              "    </tr>\n",
              "    <tr>\n",
              "      <th>2</th>\n",
              "      <td>265798132</td>\n",
              "      <td>03/28/2023</td>\n",
              "      <td>157.0</td>\n",
              "      <td>RAPE 1</td>\n",
              "      <td>104.0</td>\n",
              "      <td>RAPE</td>\n",
              "      <td>PL 1303501</td>\n",
              "      <td>F</td>\n",
              "      <td>S</td>\n",
              "      <td>120</td>\n",
              "      <td>...</td>\n",
              "      <td>962873</td>\n",
              "      <td>174172</td>\n",
              "      <td>40.644721</td>\n",
              "      <td>-74.077033</td>\n",
              "      <td>POINT (-74.0770327198983 40.6447209438691)</td>\n",
              "      <td>4.0</td>\n",
              "      <td>1.0</td>\n",
              "      <td>13.0</td>\n",
              "      <td>74.0</td>\n",
              "      <td>10369.0</td>\n",
              "    </tr>\n",
              "    <tr>\n",
              "      <th>3</th>\n",
              "      <td>269233687</td>\n",
              "      <td>06/02/2023</td>\n",
              "      <td>157.0</td>\n",
              "      <td>RAPE 1</td>\n",
              "      <td>104.0</td>\n",
              "      <td>RAPE</td>\n",
              "      <td>PL 1303501</td>\n",
              "      <td>F</td>\n",
              "      <td>Q</td>\n",
              "      <td>110</td>\n",
              "      <td>...</td>\n",
              "      <td>1019164</td>\n",
              "      <td>210169</td>\n",
              "      <td>40.743481</td>\n",
              "      <td>-73.874004</td>\n",
              "      <td>POINT (-73.8740035373971 40.7434812638841)</td>\n",
              "      <td>66.0</td>\n",
              "      <td>3.0</td>\n",
              "      <td>5.0</td>\n",
              "      <td>68.0</td>\n",
              "      <td>14784.0</td>\n",
              "    </tr>\n",
              "    <tr>\n",
              "      <th>4</th>\n",
              "      <td>270519574</td>\n",
              "      <td>06/28/2023</td>\n",
              "      <td>157.0</td>\n",
              "      <td>RAPE 1</td>\n",
              "      <td>104.0</td>\n",
              "      <td>RAPE</td>\n",
              "      <td>PL 1303501</td>\n",
              "      <td>F</td>\n",
              "      <td>K</td>\n",
              "      <td>84</td>\n",
              "      <td>...</td>\n",
              "      <td>988902</td>\n",
              "      <td>192641</td>\n",
              "      <td>40.695439</td>\n",
              "      <td>-73.983225</td>\n",
              "      <td>POINT (-73.9832253756043 40.6954388081238)</td>\n",
              "      <td>68.0</td>\n",
              "      <td>2.0</td>\n",
              "      <td>48.0</td>\n",
              "      <td>54.0</td>\n",
              "      <td>16865.0</td>\n",
              "    </tr>\n",
              "  </tbody>\n",
              "</table>\n",
              "<p>5 rows × 24 columns</p>\n",
              "</div>\n",
              "      <button class=\"colab-df-convert\" onclick=\"convertToInteractive('df-8e24ec62-d410-4d32-adaa-574516bfda7a')\"\n",
              "              title=\"Convert this dataframe to an interactive table.\"\n",
              "              style=\"display:none;\">\n",
              "\n",
              "  <svg xmlns=\"http://www.w3.org/2000/svg\" height=\"24px\"viewBox=\"0 0 24 24\"\n",
              "       width=\"24px\">\n",
              "    <path d=\"M0 0h24v24H0V0z\" fill=\"none\"/>\n",
              "    <path d=\"M18.56 5.44l.94 2.06.94-2.06 2.06-.94-2.06-.94-.94-2.06-.94 2.06-2.06.94zm-11 1L8.5 8.5l.94-2.06 2.06-.94-2.06-.94L8.5 2.5l-.94 2.06-2.06.94zm10 10l.94 2.06.94-2.06 2.06-.94-2.06-.94-.94-2.06-.94 2.06-2.06.94z\"/><path d=\"M17.41 7.96l-1.37-1.37c-.4-.4-.92-.59-1.43-.59-.52 0-1.04.2-1.43.59L10.3 9.45l-7.72 7.72c-.78.78-.78 2.05 0 2.83L4 21.41c.39.39.9.59 1.41.59.51 0 1.02-.2 1.41-.59l7.78-7.78 2.81-2.81c.8-.78.8-2.07 0-2.86zM5.41 20L4 18.59l7.72-7.72 1.47 1.35L5.41 20z\"/>\n",
              "  </svg>\n",
              "      </button>\n",
              "\n",
              "\n",
              "\n",
              "    <div id=\"df-f589b443-a131-4c6b-9823-8b36a200ff2f\">\n",
              "      <button class=\"colab-df-quickchart\" onclick=\"quickchart('df-f589b443-a131-4c6b-9823-8b36a200ff2f')\"\n",
              "              title=\"Suggest charts.\"\n",
              "              style=\"display:none;\">\n",
              "\n",
              "<svg xmlns=\"http://www.w3.org/2000/svg\" height=\"24px\"viewBox=\"0 0 24 24\"\n",
              "     width=\"24px\">\n",
              "    <g>\n",
              "        <path d=\"M19 3H5c-1.1 0-2 .9-2 2v14c0 1.1.9 2 2 2h14c1.1 0 2-.9 2-2V5c0-1.1-.9-2-2-2zM9 17H7v-7h2v7zm4 0h-2V7h2v10zm4 0h-2v-4h2v4z\"/>\n",
              "    </g>\n",
              "</svg>\n",
              "      </button>\n",
              "    </div>\n",
              "\n",
              "<style>\n",
              "  .colab-df-quickchart {\n",
              "    background-color: #E8F0FE;\n",
              "    border: none;\n",
              "    border-radius: 50%;\n",
              "    cursor: pointer;\n",
              "    display: none;\n",
              "    fill: #1967D2;\n",
              "    height: 32px;\n",
              "    padding: 0 0 0 0;\n",
              "    width: 32px;\n",
              "  }\n",
              "\n",
              "  .colab-df-quickchart:hover {\n",
              "    background-color: #E2EBFA;\n",
              "    box-shadow: 0px 1px 2px rgba(60, 64, 67, 0.3), 0px 1px 3px 1px rgba(60, 64, 67, 0.15);\n",
              "    fill: #174EA6;\n",
              "  }\n",
              "\n",
              "  [theme=dark] .colab-df-quickchart {\n",
              "    background-color: #3B4455;\n",
              "    fill: #D2E3FC;\n",
              "  }\n",
              "\n",
              "  [theme=dark] .colab-df-quickchart:hover {\n",
              "    background-color: #434B5C;\n",
              "    box-shadow: 0px 1px 3px 1px rgba(0, 0, 0, 0.15);\n",
              "    filter: drop-shadow(0px 1px 2px rgba(0, 0, 0, 0.3));\n",
              "    fill: #FFFFFF;\n",
              "  }\n",
              "</style>\n",
              "\n",
              "    <script>\n",
              "      async function quickchart(key) {\n",
              "        const containerElement = document.querySelector('#' + key);\n",
              "        const charts = await google.colab.kernel.invokeFunction(\n",
              "            'suggestCharts', [key], {});\n",
              "      }\n",
              "    </script>\n",
              "\n",
              "\n",
              "      <script>\n",
              "\n",
              "function displayQuickchartButton(domScope) {\n",
              "  let quickchartButtonEl =\n",
              "    domScope.querySelector('#df-f589b443-a131-4c6b-9823-8b36a200ff2f button.colab-df-quickchart');\n",
              "  quickchartButtonEl.style.display =\n",
              "    google.colab.kernel.accessAllowed ? 'block' : 'none';\n",
              "}\n",
              "\n",
              "        displayQuickchartButton(document);\n",
              "      </script>\n",
              "      <style>\n",
              "    .colab-df-container {\n",
              "      display:flex;\n",
              "      flex-wrap:wrap;\n",
              "      gap: 12px;\n",
              "    }\n",
              "\n",
              "    .colab-df-convert {\n",
              "      background-color: #E8F0FE;\n",
              "      border: none;\n",
              "      border-radius: 50%;\n",
              "      cursor: pointer;\n",
              "      display: none;\n",
              "      fill: #1967D2;\n",
              "      height: 32px;\n",
              "      padding: 0 0 0 0;\n",
              "      width: 32px;\n",
              "    }\n",
              "\n",
              "    .colab-df-convert:hover {\n",
              "      background-color: #E2EBFA;\n",
              "      box-shadow: 0px 1px 2px rgba(60, 64, 67, 0.3), 0px 1px 3px 1px rgba(60, 64, 67, 0.15);\n",
              "      fill: #174EA6;\n",
              "    }\n",
              "\n",
              "    [theme=dark] .colab-df-convert {\n",
              "      background-color: #3B4455;\n",
              "      fill: #D2E3FC;\n",
              "    }\n",
              "\n",
              "    [theme=dark] .colab-df-convert:hover {\n",
              "      background-color: #434B5C;\n",
              "      box-shadow: 0px 1px 3px 1px rgba(0, 0, 0, 0.15);\n",
              "      filter: drop-shadow(0px 1px 2px rgba(0, 0, 0, 0.3));\n",
              "      fill: #FFFFFF;\n",
              "    }\n",
              "  </style>\n",
              "\n",
              "      <script>\n",
              "        const buttonEl =\n",
              "          document.querySelector('#df-8e24ec62-d410-4d32-adaa-574516bfda7a button.colab-df-convert');\n",
              "        buttonEl.style.display =\n",
              "          google.colab.kernel.accessAllowed ? 'block' : 'none';\n",
              "\n",
              "        async function convertToInteractive(key) {\n",
              "          const element = document.querySelector('#df-8e24ec62-d410-4d32-adaa-574516bfda7a');\n",
              "          const dataTable =\n",
              "            await google.colab.kernel.invokeFunction('convertToInteractive',\n",
              "                                                     [key], {});\n",
              "          if (!dataTable) return;\n",
              "\n",
              "          const docLinkHtml = 'Like what you see? Visit the ' +\n",
              "            '<a target=\"_blank\" href=https://colab.research.google.com/notebooks/data_table.ipynb>data table notebook</a>'\n",
              "            + ' to learn more about interactive tables.';\n",
              "          element.innerHTML = '';\n",
              "          dataTable['output_type'] = 'display_data';\n",
              "          await google.colab.output.renderOutput(dataTable, element);\n",
              "          const docLink = document.createElement('div');\n",
              "          docLink.innerHTML = docLinkHtml;\n",
              "          element.appendChild(docLink);\n",
              "        }\n",
              "      </script>\n",
              "    </div>\n",
              "  </div>\n"
            ]
          },
          "metadata": {},
          "execution_count": 37
        }
      ]
    },
    {
      "cell_type": "code",
      "source": [
        "nypdarrest.tail() # Quick check of the end of the dataframe"
      ],
      "metadata": {
        "colab": {
          "base_uri": "https://localhost:8080/",
          "height": 508
        },
        "id": "F5rj5Rrn3EqG",
        "outputId": "624c3bf1-490f-47a3-908e-4165b87e1c90"
      },
      "execution_count": 38,
      "outputs": [
        {
          "output_type": "execute_result",
          "data": {
            "text/plain": [
              "        ARREST_KEY ARREST_DATE  PD_CD  \\\n",
              "112566   267861068  05/07/2023  922.0   \n",
              "112567   270481110  06/27/2023  101.0   \n",
              "112568   267833542  05/06/2023  397.0   \n",
              "112569   268911088  05/27/2023  494.0   \n",
              "112570   269584440  06/09/2023  439.0   \n",
              "\n",
              "                                          PD_DESC  KY_CD  \\\n",
              "112566             TRAFFIC,UNCLASSIFIED MISDEMEAN  348.0   \n",
              "112567                                  ASSAULT 3  344.0   \n",
              "112568             ROBBERY,OPEN AREA UNCLASSIFIED  105.0   \n",
              "112569             STOLEN PROPERTY 2,1,POSSESSION  111.0   \n",
              "112570  LARCENY,GRAND FROM OPEN AREAS, UNATTENDED  109.0   \n",
              "\n",
              "                            OFNS_DESC    LAW_CODE LAW_CAT_CD ARREST_BORO  \\\n",
              "112566       VEHICLE AND TRAFFIC LAWS  VTL05110MU          M           Q   \n",
              "112567   ASSAULT 3 & RELATED OFFENSES  PL 1200001          M           K   \n",
              "112568                        ROBBERY  PL 1601502          F           B   \n",
              "112569  POSSESSION OF STOLEN PROPERTY  PL 1654502          F           B   \n",
              "112570                  GRAND LARCENY  PL 1553001          F           M   \n",
              "\n",
              "        ARREST_PRECINCT  ...  X_COORD_CD Y_COORD_CD   Latitude  Longitude  \\\n",
              "112566              113  ...     1046315     187088  40.679981 -73.776234   \n",
              "112567               79  ...      999872     187803  40.682141 -73.943673   \n",
              "112568               43  ...     1019852     241853  40.830435 -73.871349   \n",
              "112569               46  ...     1011750     250274  40.853578 -73.900591   \n",
              "112570               24  ...      993372     229301  40.796050 -73.967052   \n",
              "\n",
              "                          New Georeferenced Column  Community Districts  \\\n",
              "112566  POINT (-73.7762339071953 40.6799807384666)                 41.0   \n",
              "112567                POINT (-73.943673 40.682141)                 69.0   \n",
              "112568                POINT (-73.871349 40.830435)                 58.0   \n",
              "112569                POINT (-73.900591 40.853578)                  6.0   \n",
              "112570                 POINT (-73.967052 40.79605)                 20.0   \n",
              "\n",
              "        Borough Boundaries  City Council Districts Police Precincts  Zip Codes  \n",
              "112566                 3.0                     6.0             71.0    24669.0  \n",
              "112567                 2.0                    49.0             51.0    17618.0  \n",
              "112568                 5.0                    31.0             26.0    11610.0  \n",
              "112569                 5.0                    22.0             29.0    10935.0  \n",
              "112570                 4.0                    23.0             15.0    12422.0  \n",
              "\n",
              "[5 rows x 24 columns]"
            ],
            "text/html": [
              "\n",
              "\n",
              "  <div id=\"df-17d51a29-8492-4745-b8a8-fecbe1e9d86c\">\n",
              "    <div class=\"colab-df-container\">\n",
              "      <div>\n",
              "<style scoped>\n",
              "    .dataframe tbody tr th:only-of-type {\n",
              "        vertical-align: middle;\n",
              "    }\n",
              "\n",
              "    .dataframe tbody tr th {\n",
              "        vertical-align: top;\n",
              "    }\n",
              "\n",
              "    .dataframe thead th {\n",
              "        text-align: right;\n",
              "    }\n",
              "</style>\n",
              "<table border=\"1\" class=\"dataframe\">\n",
              "  <thead>\n",
              "    <tr style=\"text-align: right;\">\n",
              "      <th></th>\n",
              "      <th>ARREST_KEY</th>\n",
              "      <th>ARREST_DATE</th>\n",
              "      <th>PD_CD</th>\n",
              "      <th>PD_DESC</th>\n",
              "      <th>KY_CD</th>\n",
              "      <th>OFNS_DESC</th>\n",
              "      <th>LAW_CODE</th>\n",
              "      <th>LAW_CAT_CD</th>\n",
              "      <th>ARREST_BORO</th>\n",
              "      <th>ARREST_PRECINCT</th>\n",
              "      <th>...</th>\n",
              "      <th>X_COORD_CD</th>\n",
              "      <th>Y_COORD_CD</th>\n",
              "      <th>Latitude</th>\n",
              "      <th>Longitude</th>\n",
              "      <th>New Georeferenced Column</th>\n",
              "      <th>Community Districts</th>\n",
              "      <th>Borough Boundaries</th>\n",
              "      <th>City Council Districts</th>\n",
              "      <th>Police Precincts</th>\n",
              "      <th>Zip Codes</th>\n",
              "    </tr>\n",
              "  </thead>\n",
              "  <tbody>\n",
              "    <tr>\n",
              "      <th>112566</th>\n",
              "      <td>267861068</td>\n",
              "      <td>05/07/2023</td>\n",
              "      <td>922.0</td>\n",
              "      <td>TRAFFIC,UNCLASSIFIED MISDEMEAN</td>\n",
              "      <td>348.0</td>\n",
              "      <td>VEHICLE AND TRAFFIC LAWS</td>\n",
              "      <td>VTL05110MU</td>\n",
              "      <td>M</td>\n",
              "      <td>Q</td>\n",
              "      <td>113</td>\n",
              "      <td>...</td>\n",
              "      <td>1046315</td>\n",
              "      <td>187088</td>\n",
              "      <td>40.679981</td>\n",
              "      <td>-73.776234</td>\n",
              "      <td>POINT (-73.7762339071953 40.6799807384666)</td>\n",
              "      <td>41.0</td>\n",
              "      <td>3.0</td>\n",
              "      <td>6.0</td>\n",
              "      <td>71.0</td>\n",
              "      <td>24669.0</td>\n",
              "    </tr>\n",
              "    <tr>\n",
              "      <th>112567</th>\n",
              "      <td>270481110</td>\n",
              "      <td>06/27/2023</td>\n",
              "      <td>101.0</td>\n",
              "      <td>ASSAULT 3</td>\n",
              "      <td>344.0</td>\n",
              "      <td>ASSAULT 3 &amp; RELATED OFFENSES</td>\n",
              "      <td>PL 1200001</td>\n",
              "      <td>M</td>\n",
              "      <td>K</td>\n",
              "      <td>79</td>\n",
              "      <td>...</td>\n",
              "      <td>999872</td>\n",
              "      <td>187803</td>\n",
              "      <td>40.682141</td>\n",
              "      <td>-73.943673</td>\n",
              "      <td>POINT (-73.943673 40.682141)</td>\n",
              "      <td>69.0</td>\n",
              "      <td>2.0</td>\n",
              "      <td>49.0</td>\n",
              "      <td>51.0</td>\n",
              "      <td>17618.0</td>\n",
              "    </tr>\n",
              "    <tr>\n",
              "      <th>112568</th>\n",
              "      <td>267833542</td>\n",
              "      <td>05/06/2023</td>\n",
              "      <td>397.0</td>\n",
              "      <td>ROBBERY,OPEN AREA UNCLASSIFIED</td>\n",
              "      <td>105.0</td>\n",
              "      <td>ROBBERY</td>\n",
              "      <td>PL 1601502</td>\n",
              "      <td>F</td>\n",
              "      <td>B</td>\n",
              "      <td>43</td>\n",
              "      <td>...</td>\n",
              "      <td>1019852</td>\n",
              "      <td>241853</td>\n",
              "      <td>40.830435</td>\n",
              "      <td>-73.871349</td>\n",
              "      <td>POINT (-73.871349 40.830435)</td>\n",
              "      <td>58.0</td>\n",
              "      <td>5.0</td>\n",
              "      <td>31.0</td>\n",
              "      <td>26.0</td>\n",
              "      <td>11610.0</td>\n",
              "    </tr>\n",
              "    <tr>\n",
              "      <th>112569</th>\n",
              "      <td>268911088</td>\n",
              "      <td>05/27/2023</td>\n",
              "      <td>494.0</td>\n",
              "      <td>STOLEN PROPERTY 2,1,POSSESSION</td>\n",
              "      <td>111.0</td>\n",
              "      <td>POSSESSION OF STOLEN PROPERTY</td>\n",
              "      <td>PL 1654502</td>\n",
              "      <td>F</td>\n",
              "      <td>B</td>\n",
              "      <td>46</td>\n",
              "      <td>...</td>\n",
              "      <td>1011750</td>\n",
              "      <td>250274</td>\n",
              "      <td>40.853578</td>\n",
              "      <td>-73.900591</td>\n",
              "      <td>POINT (-73.900591 40.853578)</td>\n",
              "      <td>6.0</td>\n",
              "      <td>5.0</td>\n",
              "      <td>22.0</td>\n",
              "      <td>29.0</td>\n",
              "      <td>10935.0</td>\n",
              "    </tr>\n",
              "    <tr>\n",
              "      <th>112570</th>\n",
              "      <td>269584440</td>\n",
              "      <td>06/09/2023</td>\n",
              "      <td>439.0</td>\n",
              "      <td>LARCENY,GRAND FROM OPEN AREAS, UNATTENDED</td>\n",
              "      <td>109.0</td>\n",
              "      <td>GRAND LARCENY</td>\n",
              "      <td>PL 1553001</td>\n",
              "      <td>F</td>\n",
              "      <td>M</td>\n",
              "      <td>24</td>\n",
              "      <td>...</td>\n",
              "      <td>993372</td>\n",
              "      <td>229301</td>\n",
              "      <td>40.796050</td>\n",
              "      <td>-73.967052</td>\n",
              "      <td>POINT (-73.967052 40.79605)</td>\n",
              "      <td>20.0</td>\n",
              "      <td>4.0</td>\n",
              "      <td>23.0</td>\n",
              "      <td>15.0</td>\n",
              "      <td>12422.0</td>\n",
              "    </tr>\n",
              "  </tbody>\n",
              "</table>\n",
              "<p>5 rows × 24 columns</p>\n",
              "</div>\n",
              "      <button class=\"colab-df-convert\" onclick=\"convertToInteractive('df-17d51a29-8492-4745-b8a8-fecbe1e9d86c')\"\n",
              "              title=\"Convert this dataframe to an interactive table.\"\n",
              "              style=\"display:none;\">\n",
              "\n",
              "  <svg xmlns=\"http://www.w3.org/2000/svg\" height=\"24px\"viewBox=\"0 0 24 24\"\n",
              "       width=\"24px\">\n",
              "    <path d=\"M0 0h24v24H0V0z\" fill=\"none\"/>\n",
              "    <path d=\"M18.56 5.44l.94 2.06.94-2.06 2.06-.94-2.06-.94-.94-2.06-.94 2.06-2.06.94zm-11 1L8.5 8.5l.94-2.06 2.06-.94-2.06-.94L8.5 2.5l-.94 2.06-2.06.94zm10 10l.94 2.06.94-2.06 2.06-.94-2.06-.94-.94-2.06-.94 2.06-2.06.94z\"/><path d=\"M17.41 7.96l-1.37-1.37c-.4-.4-.92-.59-1.43-.59-.52 0-1.04.2-1.43.59L10.3 9.45l-7.72 7.72c-.78.78-.78 2.05 0 2.83L4 21.41c.39.39.9.59 1.41.59.51 0 1.02-.2 1.41-.59l7.78-7.78 2.81-2.81c.8-.78.8-2.07 0-2.86zM5.41 20L4 18.59l7.72-7.72 1.47 1.35L5.41 20z\"/>\n",
              "  </svg>\n",
              "      </button>\n",
              "\n",
              "\n",
              "\n",
              "    <div id=\"df-64812e9d-87c6-420b-a669-b15e58257158\">\n",
              "      <button class=\"colab-df-quickchart\" onclick=\"quickchart('df-64812e9d-87c6-420b-a669-b15e58257158')\"\n",
              "              title=\"Suggest charts.\"\n",
              "              style=\"display:none;\">\n",
              "\n",
              "<svg xmlns=\"http://www.w3.org/2000/svg\" height=\"24px\"viewBox=\"0 0 24 24\"\n",
              "     width=\"24px\">\n",
              "    <g>\n",
              "        <path d=\"M19 3H5c-1.1 0-2 .9-2 2v14c0 1.1.9 2 2 2h14c1.1 0 2-.9 2-2V5c0-1.1-.9-2-2-2zM9 17H7v-7h2v7zm4 0h-2V7h2v10zm4 0h-2v-4h2v4z\"/>\n",
              "    </g>\n",
              "</svg>\n",
              "      </button>\n",
              "    </div>\n",
              "\n",
              "<style>\n",
              "  .colab-df-quickchart {\n",
              "    background-color: #E8F0FE;\n",
              "    border: none;\n",
              "    border-radius: 50%;\n",
              "    cursor: pointer;\n",
              "    display: none;\n",
              "    fill: #1967D2;\n",
              "    height: 32px;\n",
              "    padding: 0 0 0 0;\n",
              "    width: 32px;\n",
              "  }\n",
              "\n",
              "  .colab-df-quickchart:hover {\n",
              "    background-color: #E2EBFA;\n",
              "    box-shadow: 0px 1px 2px rgba(60, 64, 67, 0.3), 0px 1px 3px 1px rgba(60, 64, 67, 0.15);\n",
              "    fill: #174EA6;\n",
              "  }\n",
              "\n",
              "  [theme=dark] .colab-df-quickchart {\n",
              "    background-color: #3B4455;\n",
              "    fill: #D2E3FC;\n",
              "  }\n",
              "\n",
              "  [theme=dark] .colab-df-quickchart:hover {\n",
              "    background-color: #434B5C;\n",
              "    box-shadow: 0px 1px 3px 1px rgba(0, 0, 0, 0.15);\n",
              "    filter: drop-shadow(0px 1px 2px rgba(0, 0, 0, 0.3));\n",
              "    fill: #FFFFFF;\n",
              "  }\n",
              "</style>\n",
              "\n",
              "    <script>\n",
              "      async function quickchart(key) {\n",
              "        const containerElement = document.querySelector('#' + key);\n",
              "        const charts = await google.colab.kernel.invokeFunction(\n",
              "            'suggestCharts', [key], {});\n",
              "      }\n",
              "    </script>\n",
              "\n",
              "\n",
              "      <script>\n",
              "\n",
              "function displayQuickchartButton(domScope) {\n",
              "  let quickchartButtonEl =\n",
              "    domScope.querySelector('#df-64812e9d-87c6-420b-a669-b15e58257158 button.colab-df-quickchart');\n",
              "  quickchartButtonEl.style.display =\n",
              "    google.colab.kernel.accessAllowed ? 'block' : 'none';\n",
              "}\n",
              "\n",
              "        displayQuickchartButton(document);\n",
              "      </script>\n",
              "      <style>\n",
              "    .colab-df-container {\n",
              "      display:flex;\n",
              "      flex-wrap:wrap;\n",
              "      gap: 12px;\n",
              "    }\n",
              "\n",
              "    .colab-df-convert {\n",
              "      background-color: #E8F0FE;\n",
              "      border: none;\n",
              "      border-radius: 50%;\n",
              "      cursor: pointer;\n",
              "      display: none;\n",
              "      fill: #1967D2;\n",
              "      height: 32px;\n",
              "      padding: 0 0 0 0;\n",
              "      width: 32px;\n",
              "    }\n",
              "\n",
              "    .colab-df-convert:hover {\n",
              "      background-color: #E2EBFA;\n",
              "      box-shadow: 0px 1px 2px rgba(60, 64, 67, 0.3), 0px 1px 3px 1px rgba(60, 64, 67, 0.15);\n",
              "      fill: #174EA6;\n",
              "    }\n",
              "\n",
              "    [theme=dark] .colab-df-convert {\n",
              "      background-color: #3B4455;\n",
              "      fill: #D2E3FC;\n",
              "    }\n",
              "\n",
              "    [theme=dark] .colab-df-convert:hover {\n",
              "      background-color: #434B5C;\n",
              "      box-shadow: 0px 1px 3px 1px rgba(0, 0, 0, 0.15);\n",
              "      filter: drop-shadow(0px 1px 2px rgba(0, 0, 0, 0.3));\n",
              "      fill: #FFFFFF;\n",
              "    }\n",
              "  </style>\n",
              "\n",
              "      <script>\n",
              "        const buttonEl =\n",
              "          document.querySelector('#df-17d51a29-8492-4745-b8a8-fecbe1e9d86c button.colab-df-convert');\n",
              "        buttonEl.style.display =\n",
              "          google.colab.kernel.accessAllowed ? 'block' : 'none';\n",
              "\n",
              "        async function convertToInteractive(key) {\n",
              "          const element = document.querySelector('#df-17d51a29-8492-4745-b8a8-fecbe1e9d86c');\n",
              "          const dataTable =\n",
              "            await google.colab.kernel.invokeFunction('convertToInteractive',\n",
              "                                                     [key], {});\n",
              "          if (!dataTable) return;\n",
              "\n",
              "          const docLinkHtml = 'Like what you see? Visit the ' +\n",
              "            '<a target=\"_blank\" href=https://colab.research.google.com/notebooks/data_table.ipynb>data table notebook</a>'\n",
              "            + ' to learn more about interactive tables.';\n",
              "          element.innerHTML = '';\n",
              "          dataTable['output_type'] = 'display_data';\n",
              "          await google.colab.output.renderOutput(dataTable, element);\n",
              "          const docLink = document.createElement('div');\n",
              "          docLink.innerHTML = docLinkHtml;\n",
              "          element.appendChild(docLink);\n",
              "        }\n",
              "      </script>\n",
              "    </div>\n",
              "  </div>\n"
            ]
          },
          "metadata": {},
          "execution_count": 38
        }
      ]
    },
    {
      "cell_type": "code",
      "source": [
        "nypdarrest.info() # Summary information about the dataframe"
      ],
      "metadata": {
        "colab": {
          "base_uri": "https://localhost:8080/"
        },
        "id": "7f4cB5QS3dfW",
        "outputId": "f2e491ee-e1c6-42e2-9b00-bfb3e08fd406"
      },
      "execution_count": 40,
      "outputs": [
        {
          "output_type": "stream",
          "name": "stdout",
          "text": [
            "<class 'pandas.core.frame.DataFrame'>\n",
            "RangeIndex: 112571 entries, 0 to 112570\n",
            "Data columns (total 24 columns):\n",
            " #   Column                    Non-Null Count   Dtype  \n",
            "---  ------                    --------------   -----  \n",
            " 0   ARREST_KEY                112571 non-null  int64  \n",
            " 1   ARREST_DATE               112571 non-null  object \n",
            " 2   PD_CD                     112110 non-null  float64\n",
            " 3   PD_DESC                   112571 non-null  object \n",
            " 4   KY_CD                     112105 non-null  float64\n",
            " 5   OFNS_DESC                 112571 non-null  object \n",
            " 6   LAW_CODE                  112571 non-null  object \n",
            " 7   LAW_CAT_CD                111725 non-null  object \n",
            " 8   ARREST_BORO               112571 non-null  object \n",
            " 9   ARREST_PRECINCT           112571 non-null  int64  \n",
            " 10  JURISDICTION_CODE         112571 non-null  int64  \n",
            " 11  AGE_GROUP                 112571 non-null  object \n",
            " 12  PERP_SEX                  112571 non-null  object \n",
            " 13  PERP_RACE                 112571 non-null  object \n",
            " 14  X_COORD_CD                112571 non-null  int64  \n",
            " 15  Y_COORD_CD                112571 non-null  int64  \n",
            " 16  Latitude                  112571 non-null  float64\n",
            " 17  Longitude                 112571 non-null  float64\n",
            " 18  New Georeferenced Column  112571 non-null  object \n",
            " 19  Community Districts       112558 non-null  float64\n",
            " 20  Borough Boundaries        112555 non-null  float64\n",
            " 21  City Council Districts    112558 non-null  float64\n",
            " 22  Police Precincts          112558 non-null  float64\n",
            " 23  Zip Codes                 112334 non-null  float64\n",
            "dtypes: float64(9), int64(5), object(10)\n",
            "memory usage: 20.6+ MB\n"
          ]
        }
      ]
    },
    {
      "cell_type": "code",
      "source": [
        "# Changing the data type from object to datetime for the OCCURRED_ON_DATE column\n",
        "nypdarrest.ARREST_DATE = pd.to_datetime(nypdarrest.ARREST_DATE)"
      ],
      "metadata": {
        "id": "VWiYlDqd5q1M"
      },
      "execution_count": 41,
      "outputs": []
    },
    {
      "cell_type": "code",
      "source": [
        "# Check if it worked\n",
        "nypdarrest.info()"
      ],
      "metadata": {
        "colab": {
          "base_uri": "https://localhost:8080/"
        },
        "id": "JjktzK_T6jEt",
        "outputId": "a8ae7a0a-636c-4e50-a0cf-65780b35ebbd"
      },
      "execution_count": 42,
      "outputs": [
        {
          "output_type": "stream",
          "name": "stdout",
          "text": [
            "<class 'pandas.core.frame.DataFrame'>\n",
            "RangeIndex: 112571 entries, 0 to 112570\n",
            "Data columns (total 24 columns):\n",
            " #   Column                    Non-Null Count   Dtype         \n",
            "---  ------                    --------------   -----         \n",
            " 0   ARREST_KEY                112571 non-null  int64         \n",
            " 1   ARREST_DATE               112571 non-null  datetime64[ns]\n",
            " 2   PD_CD                     112110 non-null  float64       \n",
            " 3   PD_DESC                   112571 non-null  object        \n",
            " 4   KY_CD                     112105 non-null  float64       \n",
            " 5   OFNS_DESC                 112571 non-null  object        \n",
            " 6   LAW_CODE                  112571 non-null  object        \n",
            " 7   LAW_CAT_CD                111725 non-null  object        \n",
            " 8   ARREST_BORO               112571 non-null  object        \n",
            " 9   ARREST_PRECINCT           112571 non-null  int64         \n",
            " 10  JURISDICTION_CODE         112571 non-null  int64         \n",
            " 11  AGE_GROUP                 112571 non-null  object        \n",
            " 12  PERP_SEX                  112571 non-null  object        \n",
            " 13  PERP_RACE                 112571 non-null  object        \n",
            " 14  X_COORD_CD                112571 non-null  int64         \n",
            " 15  Y_COORD_CD                112571 non-null  int64         \n",
            " 16  Latitude                  112571 non-null  float64       \n",
            " 17  Longitude                 112571 non-null  float64       \n",
            " 18  New Georeferenced Column  112571 non-null  object        \n",
            " 19  Community Districts       112558 non-null  float64       \n",
            " 20  Borough Boundaries        112555 non-null  float64       \n",
            " 21  City Council Districts    112558 non-null  float64       \n",
            " 22  Police Precincts          112558 non-null  float64       \n",
            " 23  Zip Codes                 112334 non-null  float64       \n",
            "dtypes: datetime64[ns](1), float64(9), int64(5), object(9)\n",
            "memory usage: 20.6+ MB\n"
          ]
        }
      ]
    },
    {
      "cell_type": "code",
      "source": [
        "# easily extract datetime information frome the OCCURRED_ON_DATE column\n",
        "nypdarrest.ARREST_DATE.dt.year"
      ],
      "metadata": {
        "colab": {
          "base_uri": "https://localhost:8080/"
        },
        "id": "VJw_xJ2W7cMb",
        "outputId": "20253487-d0f5-49d9-ec5d-a204f16a6299"
      },
      "execution_count": 19,
      "outputs": [
        {
          "output_type": "execute_result",
          "data": {
            "text/plain": [
              "0         2023\n",
              "1         2023\n",
              "2         2023\n",
              "3         2023\n",
              "4         2023\n",
              "          ... \n",
              "112566    2023\n",
              "112567    2023\n",
              "112568    2023\n",
              "112569    2023\n",
              "112570    2023\n",
              "Name: ARREST_DATE, Length: 112571, dtype: int64"
            ]
          },
          "metadata": {},
          "execution_count": 19
        }
      ]
    },
    {
      "cell_type": "code",
      "source": [
        "nypdarrest.ARREST_DATE.dt.month"
      ],
      "metadata": {
        "colab": {
          "base_uri": "https://localhost:8080/"
        },
        "id": "OpLBIqJh7tBZ",
        "outputId": "68b490ae-f688-41ea-a1d8-7adbb72d47cc"
      },
      "execution_count": 44,
      "outputs": [
        {
          "output_type": "execute_result",
          "data": {
            "text/plain": [
              "0         2\n",
              "1         3\n",
              "2         3\n",
              "3         6\n",
              "4         6\n",
              "         ..\n",
              "112566    5\n",
              "112567    6\n",
              "112568    5\n",
              "112569    5\n",
              "112570    6\n",
              "Name: ARREST_DATE, Length: 112571, dtype: int64"
            ]
          },
          "metadata": {},
          "execution_count": 44
        }
      ]
    },
    {
      "cell_type": "code",
      "source": [
        "nypdarrest.describe() # summary information on the numeric columns"
      ],
      "metadata": {
        "colab": {
          "base_uri": "https://localhost:8080/",
          "height": 382
        },
        "id": "EqGBCLhu8a4w",
        "outputId": "7c353a6e-f383-4e14-c664-9fe4551e37ef"
      },
      "execution_count": 46,
      "outputs": [
        {
          "output_type": "execute_result",
          "data": {
            "text/plain": [
              "         ARREST_KEY          PD_CD          KY_CD  ARREST_PRECINCT  \\\n",
              "count  1.125710e+05  112110.000000  112105.000000    112571.000000   \n",
              "mean   2.660418e+08     425.562858     249.999661        63.495527   \n",
              "std    2.753893e+06     276.238688     147.860807        34.516551   \n",
              "min    2.611809e+08      12.000000     101.000000         1.000000   \n",
              "25%    2.636706e+08     114.000000     113.000000        40.000000   \n",
              "50%    2.661411e+08     397.000000     236.000000        63.000000   \n",
              "75%    2.684515e+08     705.000000     344.000000       101.000000   \n",
              "max    2.706613e+08     997.000000     995.000000       123.000000   \n",
              "\n",
              "       JURISDICTION_CODE    X_COORD_CD     Y_COORD_CD       Latitude  \\\n",
              "count      112571.000000  1.125710e+05  112571.000000  112571.000000   \n",
              "mean            0.969983  1.005906e+06  208392.858933      40.738258   \n",
              "std             7.865727  2.159455e+04   29807.535869       0.146405   \n",
              "min             0.000000  0.000000e+00       0.000000       0.000000   \n",
              "25%             0.000000  9.916100e+05  186140.000000      40.677546   \n",
              "50%             0.000000  1.005680e+06  206647.000000      40.733876   \n",
              "75%             0.000000  1.017925e+06  236537.000000      40.815904   \n",
              "max            97.000000  1.066940e+06  271819.000000      40.912714   \n",
              "\n",
              "           Longitude  Community Districts  Borough Boundaries  \\\n",
              "count  112571.000000        112558.000000       112555.000000   \n",
              "mean      -73.921137            36.898612            3.338812   \n",
              "std         0.233432            21.005311            1.227511   \n",
              "min       -74.251844             1.000000            1.000000   \n",
              "25%       -73.973423            17.000000            2.000000   \n",
              "50%       -73.922631            41.000000            3.000000   \n",
              "75%       -73.878395            55.000000            4.000000   \n",
              "max         0.000000            71.000000            5.000000   \n",
              "\n",
              "       City Council Districts  Police Precincts      Zip Codes  \n",
              "count           112558.000000     112558.000000  112334.000000  \n",
              "mean                27.451412         39.099700   14524.958757  \n",
              "std                 14.504522         21.403418    3921.571464  \n",
              "min                  1.000000          1.000000   10090.000000  \n",
              "25%                 13.000000         23.000000   11606.000000  \n",
              "50%                 29.000000         37.000000   13094.000000  \n",
              "75%                 40.000000         59.000000   17213.000000  \n",
              "max                 51.000000         77.000000   24894.000000  "
            ],
            "text/html": [
              "\n",
              "\n",
              "  <div id=\"df-e6df0c08-e553-49c4-9b68-80439ff2999b\">\n",
              "    <div class=\"colab-df-container\">\n",
              "      <div>\n",
              "<style scoped>\n",
              "    .dataframe tbody tr th:only-of-type {\n",
              "        vertical-align: middle;\n",
              "    }\n",
              "\n",
              "    .dataframe tbody tr th {\n",
              "        vertical-align: top;\n",
              "    }\n",
              "\n",
              "    .dataframe thead th {\n",
              "        text-align: right;\n",
              "    }\n",
              "</style>\n",
              "<table border=\"1\" class=\"dataframe\">\n",
              "  <thead>\n",
              "    <tr style=\"text-align: right;\">\n",
              "      <th></th>\n",
              "      <th>ARREST_KEY</th>\n",
              "      <th>PD_CD</th>\n",
              "      <th>KY_CD</th>\n",
              "      <th>ARREST_PRECINCT</th>\n",
              "      <th>JURISDICTION_CODE</th>\n",
              "      <th>X_COORD_CD</th>\n",
              "      <th>Y_COORD_CD</th>\n",
              "      <th>Latitude</th>\n",
              "      <th>Longitude</th>\n",
              "      <th>Community Districts</th>\n",
              "      <th>Borough Boundaries</th>\n",
              "      <th>City Council Districts</th>\n",
              "      <th>Police Precincts</th>\n",
              "      <th>Zip Codes</th>\n",
              "    </tr>\n",
              "  </thead>\n",
              "  <tbody>\n",
              "    <tr>\n",
              "      <th>count</th>\n",
              "      <td>1.125710e+05</td>\n",
              "      <td>112110.000000</td>\n",
              "      <td>112105.000000</td>\n",
              "      <td>112571.000000</td>\n",
              "      <td>112571.000000</td>\n",
              "      <td>1.125710e+05</td>\n",
              "      <td>112571.000000</td>\n",
              "      <td>112571.000000</td>\n",
              "      <td>112571.000000</td>\n",
              "      <td>112558.000000</td>\n",
              "      <td>112555.000000</td>\n",
              "      <td>112558.000000</td>\n",
              "      <td>112558.000000</td>\n",
              "      <td>112334.000000</td>\n",
              "    </tr>\n",
              "    <tr>\n",
              "      <th>mean</th>\n",
              "      <td>2.660418e+08</td>\n",
              "      <td>425.562858</td>\n",
              "      <td>249.999661</td>\n",
              "      <td>63.495527</td>\n",
              "      <td>0.969983</td>\n",
              "      <td>1.005906e+06</td>\n",
              "      <td>208392.858933</td>\n",
              "      <td>40.738258</td>\n",
              "      <td>-73.921137</td>\n",
              "      <td>36.898612</td>\n",
              "      <td>3.338812</td>\n",
              "      <td>27.451412</td>\n",
              "      <td>39.099700</td>\n",
              "      <td>14524.958757</td>\n",
              "    </tr>\n",
              "    <tr>\n",
              "      <th>std</th>\n",
              "      <td>2.753893e+06</td>\n",
              "      <td>276.238688</td>\n",
              "      <td>147.860807</td>\n",
              "      <td>34.516551</td>\n",
              "      <td>7.865727</td>\n",
              "      <td>2.159455e+04</td>\n",
              "      <td>29807.535869</td>\n",
              "      <td>0.146405</td>\n",
              "      <td>0.233432</td>\n",
              "      <td>21.005311</td>\n",
              "      <td>1.227511</td>\n",
              "      <td>14.504522</td>\n",
              "      <td>21.403418</td>\n",
              "      <td>3921.571464</td>\n",
              "    </tr>\n",
              "    <tr>\n",
              "      <th>min</th>\n",
              "      <td>2.611809e+08</td>\n",
              "      <td>12.000000</td>\n",
              "      <td>101.000000</td>\n",
              "      <td>1.000000</td>\n",
              "      <td>0.000000</td>\n",
              "      <td>0.000000e+00</td>\n",
              "      <td>0.000000</td>\n",
              "      <td>0.000000</td>\n",
              "      <td>-74.251844</td>\n",
              "      <td>1.000000</td>\n",
              "      <td>1.000000</td>\n",
              "      <td>1.000000</td>\n",
              "      <td>1.000000</td>\n",
              "      <td>10090.000000</td>\n",
              "    </tr>\n",
              "    <tr>\n",
              "      <th>25%</th>\n",
              "      <td>2.636706e+08</td>\n",
              "      <td>114.000000</td>\n",
              "      <td>113.000000</td>\n",
              "      <td>40.000000</td>\n",
              "      <td>0.000000</td>\n",
              "      <td>9.916100e+05</td>\n",
              "      <td>186140.000000</td>\n",
              "      <td>40.677546</td>\n",
              "      <td>-73.973423</td>\n",
              "      <td>17.000000</td>\n",
              "      <td>2.000000</td>\n",
              "      <td>13.000000</td>\n",
              "      <td>23.000000</td>\n",
              "      <td>11606.000000</td>\n",
              "    </tr>\n",
              "    <tr>\n",
              "      <th>50%</th>\n",
              "      <td>2.661411e+08</td>\n",
              "      <td>397.000000</td>\n",
              "      <td>236.000000</td>\n",
              "      <td>63.000000</td>\n",
              "      <td>0.000000</td>\n",
              "      <td>1.005680e+06</td>\n",
              "      <td>206647.000000</td>\n",
              "      <td>40.733876</td>\n",
              "      <td>-73.922631</td>\n",
              "      <td>41.000000</td>\n",
              "      <td>3.000000</td>\n",
              "      <td>29.000000</td>\n",
              "      <td>37.000000</td>\n",
              "      <td>13094.000000</td>\n",
              "    </tr>\n",
              "    <tr>\n",
              "      <th>75%</th>\n",
              "      <td>2.684515e+08</td>\n",
              "      <td>705.000000</td>\n",
              "      <td>344.000000</td>\n",
              "      <td>101.000000</td>\n",
              "      <td>0.000000</td>\n",
              "      <td>1.017925e+06</td>\n",
              "      <td>236537.000000</td>\n",
              "      <td>40.815904</td>\n",
              "      <td>-73.878395</td>\n",
              "      <td>55.000000</td>\n",
              "      <td>4.000000</td>\n",
              "      <td>40.000000</td>\n",
              "      <td>59.000000</td>\n",
              "      <td>17213.000000</td>\n",
              "    </tr>\n",
              "    <tr>\n",
              "      <th>max</th>\n",
              "      <td>2.706613e+08</td>\n",
              "      <td>997.000000</td>\n",
              "      <td>995.000000</td>\n",
              "      <td>123.000000</td>\n",
              "      <td>97.000000</td>\n",
              "      <td>1.066940e+06</td>\n",
              "      <td>271819.000000</td>\n",
              "      <td>40.912714</td>\n",
              "      <td>0.000000</td>\n",
              "      <td>71.000000</td>\n",
              "      <td>5.000000</td>\n",
              "      <td>51.000000</td>\n",
              "      <td>77.000000</td>\n",
              "      <td>24894.000000</td>\n",
              "    </tr>\n",
              "  </tbody>\n",
              "</table>\n",
              "</div>\n",
              "      <button class=\"colab-df-convert\" onclick=\"convertToInteractive('df-e6df0c08-e553-49c4-9b68-80439ff2999b')\"\n",
              "              title=\"Convert this dataframe to an interactive table.\"\n",
              "              style=\"display:none;\">\n",
              "\n",
              "  <svg xmlns=\"http://www.w3.org/2000/svg\" height=\"24px\"viewBox=\"0 0 24 24\"\n",
              "       width=\"24px\">\n",
              "    <path d=\"M0 0h24v24H0V0z\" fill=\"none\"/>\n",
              "    <path d=\"M18.56 5.44l.94 2.06.94-2.06 2.06-.94-2.06-.94-.94-2.06-.94 2.06-2.06.94zm-11 1L8.5 8.5l.94-2.06 2.06-.94-2.06-.94L8.5 2.5l-.94 2.06-2.06.94zm10 10l.94 2.06.94-2.06 2.06-.94-2.06-.94-.94-2.06-.94 2.06-2.06.94z\"/><path d=\"M17.41 7.96l-1.37-1.37c-.4-.4-.92-.59-1.43-.59-.52 0-1.04.2-1.43.59L10.3 9.45l-7.72 7.72c-.78.78-.78 2.05 0 2.83L4 21.41c.39.39.9.59 1.41.59.51 0 1.02-.2 1.41-.59l7.78-7.78 2.81-2.81c.8-.78.8-2.07 0-2.86zM5.41 20L4 18.59l7.72-7.72 1.47 1.35L5.41 20z\"/>\n",
              "  </svg>\n",
              "      </button>\n",
              "\n",
              "\n",
              "\n",
              "    <div id=\"df-cf6c099e-177a-476e-9271-3d5643034fc2\">\n",
              "      <button class=\"colab-df-quickchart\" onclick=\"quickchart('df-cf6c099e-177a-476e-9271-3d5643034fc2')\"\n",
              "              title=\"Suggest charts.\"\n",
              "              style=\"display:none;\">\n",
              "\n",
              "<svg xmlns=\"http://www.w3.org/2000/svg\" height=\"24px\"viewBox=\"0 0 24 24\"\n",
              "     width=\"24px\">\n",
              "    <g>\n",
              "        <path d=\"M19 3H5c-1.1 0-2 .9-2 2v14c0 1.1.9 2 2 2h14c1.1 0 2-.9 2-2V5c0-1.1-.9-2-2-2zM9 17H7v-7h2v7zm4 0h-2V7h2v10zm4 0h-2v-4h2v4z\"/>\n",
              "    </g>\n",
              "</svg>\n",
              "      </button>\n",
              "    </div>\n",
              "\n",
              "<style>\n",
              "  .colab-df-quickchart {\n",
              "    background-color: #E8F0FE;\n",
              "    border: none;\n",
              "    border-radius: 50%;\n",
              "    cursor: pointer;\n",
              "    display: none;\n",
              "    fill: #1967D2;\n",
              "    height: 32px;\n",
              "    padding: 0 0 0 0;\n",
              "    width: 32px;\n",
              "  }\n",
              "\n",
              "  .colab-df-quickchart:hover {\n",
              "    background-color: #E2EBFA;\n",
              "    box-shadow: 0px 1px 2px rgba(60, 64, 67, 0.3), 0px 1px 3px 1px rgba(60, 64, 67, 0.15);\n",
              "    fill: #174EA6;\n",
              "  }\n",
              "\n",
              "  [theme=dark] .colab-df-quickchart {\n",
              "    background-color: #3B4455;\n",
              "    fill: #D2E3FC;\n",
              "  }\n",
              "\n",
              "  [theme=dark] .colab-df-quickchart:hover {\n",
              "    background-color: #434B5C;\n",
              "    box-shadow: 0px 1px 3px 1px rgba(0, 0, 0, 0.15);\n",
              "    filter: drop-shadow(0px 1px 2px rgba(0, 0, 0, 0.3));\n",
              "    fill: #FFFFFF;\n",
              "  }\n",
              "</style>\n",
              "\n",
              "    <script>\n",
              "      async function quickchart(key) {\n",
              "        const containerElement = document.querySelector('#' + key);\n",
              "        const charts = await google.colab.kernel.invokeFunction(\n",
              "            'suggestCharts', [key], {});\n",
              "      }\n",
              "    </script>\n",
              "\n",
              "\n",
              "      <script>\n",
              "\n",
              "function displayQuickchartButton(domScope) {\n",
              "  let quickchartButtonEl =\n",
              "    domScope.querySelector('#df-cf6c099e-177a-476e-9271-3d5643034fc2 button.colab-df-quickchart');\n",
              "  quickchartButtonEl.style.display =\n",
              "    google.colab.kernel.accessAllowed ? 'block' : 'none';\n",
              "}\n",
              "\n",
              "        displayQuickchartButton(document);\n",
              "      </script>\n",
              "      <style>\n",
              "    .colab-df-container {\n",
              "      display:flex;\n",
              "      flex-wrap:wrap;\n",
              "      gap: 12px;\n",
              "    }\n",
              "\n",
              "    .colab-df-convert {\n",
              "      background-color: #E8F0FE;\n",
              "      border: none;\n",
              "      border-radius: 50%;\n",
              "      cursor: pointer;\n",
              "      display: none;\n",
              "      fill: #1967D2;\n",
              "      height: 32px;\n",
              "      padding: 0 0 0 0;\n",
              "      width: 32px;\n",
              "    }\n",
              "\n",
              "    .colab-df-convert:hover {\n",
              "      background-color: #E2EBFA;\n",
              "      box-shadow: 0px 1px 2px rgba(60, 64, 67, 0.3), 0px 1px 3px 1px rgba(60, 64, 67, 0.15);\n",
              "      fill: #174EA6;\n",
              "    }\n",
              "\n",
              "    [theme=dark] .colab-df-convert {\n",
              "      background-color: #3B4455;\n",
              "      fill: #D2E3FC;\n",
              "    }\n",
              "\n",
              "    [theme=dark] .colab-df-convert:hover {\n",
              "      background-color: #434B5C;\n",
              "      box-shadow: 0px 1px 3px 1px rgba(0, 0, 0, 0.15);\n",
              "      filter: drop-shadow(0px 1px 2px rgba(0, 0, 0, 0.3));\n",
              "      fill: #FFFFFF;\n",
              "    }\n",
              "  </style>\n",
              "\n",
              "      <script>\n",
              "        const buttonEl =\n",
              "          document.querySelector('#df-e6df0c08-e553-49c4-9b68-80439ff2999b button.colab-df-convert');\n",
              "        buttonEl.style.display =\n",
              "          google.colab.kernel.accessAllowed ? 'block' : 'none';\n",
              "\n",
              "        async function convertToInteractive(key) {\n",
              "          const element = document.querySelector('#df-e6df0c08-e553-49c4-9b68-80439ff2999b');\n",
              "          const dataTable =\n",
              "            await google.colab.kernel.invokeFunction('convertToInteractive',\n",
              "                                                     [key], {});\n",
              "          if (!dataTable) return;\n",
              "\n",
              "          const docLinkHtml = 'Like what you see? Visit the ' +\n",
              "            '<a target=\"_blank\" href=https://colab.research.google.com/notebooks/data_table.ipynb>data table notebook</a>'\n",
              "            + ' to learn more about interactive tables.';\n",
              "          element.innerHTML = '';\n",
              "          dataTable['output_type'] = 'display_data';\n",
              "          await google.colab.output.renderOutput(dataTable, element);\n",
              "          const docLink = document.createElement('div');\n",
              "          docLink.innerHTML = docLinkHtml;\n",
              "          element.appendChild(docLink);\n",
              "        }\n",
              "      </script>\n",
              "    </div>\n",
              "  </div>\n"
            ]
          },
          "metadata": {},
          "execution_count": 46
        }
      ]
    },
    {
      "cell_type": "code",
      "source": [
        "nypdarrest.describe(include='object') # summary information on the non-numeric columns"
      ],
      "metadata": {
        "colab": {
          "base_uri": "https://localhost:8080/",
          "height": 326
        },
        "id": "rZqEbTBX8yF-",
        "outputId": "ecf6694f-d6b9-4e86-8646-9b65fa46eefa"
      },
      "execution_count": 47,
      "outputs": [
        {
          "output_type": "execute_result",
          "data": {
            "text/plain": [
              "          PD_DESC                     OFNS_DESC    LAW_CODE LAW_CAT_CD  \\\n",
              "count      112571                        112571      112571     111725   \n",
              "unique        233                            63         923          5   \n",
              "top     ASSAULT 3  ASSAULT 3 & RELATED OFFENSES  PL 1552500          M   \n",
              "freq        12104                         16619       12027      62259   \n",
              "\n",
              "       ARREST_BORO AGE_GROUP PERP_SEX PERP_RACE      New Georeferenced Column  \n",
              "count       112571    112571   112571    112571                        112571  \n",
              "unique           5         5        3         7                         26963  \n",
              "top              K     25-44        M     BLACK  POINT (-73.881509 40.671404)  \n",
              "freq         31104     64823    90596     54083                           769  "
            ],
            "text/html": [
              "\n",
              "\n",
              "  <div id=\"df-00abfec0-18e8-47e8-99ec-78fbe40b5472\">\n",
              "    <div class=\"colab-df-container\">\n",
              "      <div>\n",
              "<style scoped>\n",
              "    .dataframe tbody tr th:only-of-type {\n",
              "        vertical-align: middle;\n",
              "    }\n",
              "\n",
              "    .dataframe tbody tr th {\n",
              "        vertical-align: top;\n",
              "    }\n",
              "\n",
              "    .dataframe thead th {\n",
              "        text-align: right;\n",
              "    }\n",
              "</style>\n",
              "<table border=\"1\" class=\"dataframe\">\n",
              "  <thead>\n",
              "    <tr style=\"text-align: right;\">\n",
              "      <th></th>\n",
              "      <th>PD_DESC</th>\n",
              "      <th>OFNS_DESC</th>\n",
              "      <th>LAW_CODE</th>\n",
              "      <th>LAW_CAT_CD</th>\n",
              "      <th>ARREST_BORO</th>\n",
              "      <th>AGE_GROUP</th>\n",
              "      <th>PERP_SEX</th>\n",
              "      <th>PERP_RACE</th>\n",
              "      <th>New Georeferenced Column</th>\n",
              "    </tr>\n",
              "  </thead>\n",
              "  <tbody>\n",
              "    <tr>\n",
              "      <th>count</th>\n",
              "      <td>112571</td>\n",
              "      <td>112571</td>\n",
              "      <td>112571</td>\n",
              "      <td>111725</td>\n",
              "      <td>112571</td>\n",
              "      <td>112571</td>\n",
              "      <td>112571</td>\n",
              "      <td>112571</td>\n",
              "      <td>112571</td>\n",
              "    </tr>\n",
              "    <tr>\n",
              "      <th>unique</th>\n",
              "      <td>233</td>\n",
              "      <td>63</td>\n",
              "      <td>923</td>\n",
              "      <td>5</td>\n",
              "      <td>5</td>\n",
              "      <td>5</td>\n",
              "      <td>3</td>\n",
              "      <td>7</td>\n",
              "      <td>26963</td>\n",
              "    </tr>\n",
              "    <tr>\n",
              "      <th>top</th>\n",
              "      <td>ASSAULT 3</td>\n",
              "      <td>ASSAULT 3 &amp; RELATED OFFENSES</td>\n",
              "      <td>PL 1552500</td>\n",
              "      <td>M</td>\n",
              "      <td>K</td>\n",
              "      <td>25-44</td>\n",
              "      <td>M</td>\n",
              "      <td>BLACK</td>\n",
              "      <td>POINT (-73.881509 40.671404)</td>\n",
              "    </tr>\n",
              "    <tr>\n",
              "      <th>freq</th>\n",
              "      <td>12104</td>\n",
              "      <td>16619</td>\n",
              "      <td>12027</td>\n",
              "      <td>62259</td>\n",
              "      <td>31104</td>\n",
              "      <td>64823</td>\n",
              "      <td>90596</td>\n",
              "      <td>54083</td>\n",
              "      <td>769</td>\n",
              "    </tr>\n",
              "  </tbody>\n",
              "</table>\n",
              "</div>\n",
              "      <button class=\"colab-df-convert\" onclick=\"convertToInteractive('df-00abfec0-18e8-47e8-99ec-78fbe40b5472')\"\n",
              "              title=\"Convert this dataframe to an interactive table.\"\n",
              "              style=\"display:none;\">\n",
              "\n",
              "  <svg xmlns=\"http://www.w3.org/2000/svg\" height=\"24px\"viewBox=\"0 0 24 24\"\n",
              "       width=\"24px\">\n",
              "    <path d=\"M0 0h24v24H0V0z\" fill=\"none\"/>\n",
              "    <path d=\"M18.56 5.44l.94 2.06.94-2.06 2.06-.94-2.06-.94-.94-2.06-.94 2.06-2.06.94zm-11 1L8.5 8.5l.94-2.06 2.06-.94-2.06-.94L8.5 2.5l-.94 2.06-2.06.94zm10 10l.94 2.06.94-2.06 2.06-.94-2.06-.94-.94-2.06-.94 2.06-2.06.94z\"/><path d=\"M17.41 7.96l-1.37-1.37c-.4-.4-.92-.59-1.43-.59-.52 0-1.04.2-1.43.59L10.3 9.45l-7.72 7.72c-.78.78-.78 2.05 0 2.83L4 21.41c.39.39.9.59 1.41.59.51 0 1.02-.2 1.41-.59l7.78-7.78 2.81-2.81c.8-.78.8-2.07 0-2.86zM5.41 20L4 18.59l7.72-7.72 1.47 1.35L5.41 20z\"/>\n",
              "  </svg>\n",
              "      </button>\n",
              "\n",
              "\n",
              "\n",
              "    <div id=\"df-6581dd07-eb69-496a-be31-23ce11f054af\">\n",
              "      <button class=\"colab-df-quickchart\" onclick=\"quickchart('df-6581dd07-eb69-496a-be31-23ce11f054af')\"\n",
              "              title=\"Suggest charts.\"\n",
              "              style=\"display:none;\">\n",
              "\n",
              "<svg xmlns=\"http://www.w3.org/2000/svg\" height=\"24px\"viewBox=\"0 0 24 24\"\n",
              "     width=\"24px\">\n",
              "    <g>\n",
              "        <path d=\"M19 3H5c-1.1 0-2 .9-2 2v14c0 1.1.9 2 2 2h14c1.1 0 2-.9 2-2V5c0-1.1-.9-2-2-2zM9 17H7v-7h2v7zm4 0h-2V7h2v10zm4 0h-2v-4h2v4z\"/>\n",
              "    </g>\n",
              "</svg>\n",
              "      </button>\n",
              "    </div>\n",
              "\n",
              "<style>\n",
              "  .colab-df-quickchart {\n",
              "    background-color: #E8F0FE;\n",
              "    border: none;\n",
              "    border-radius: 50%;\n",
              "    cursor: pointer;\n",
              "    display: none;\n",
              "    fill: #1967D2;\n",
              "    height: 32px;\n",
              "    padding: 0 0 0 0;\n",
              "    width: 32px;\n",
              "  }\n",
              "\n",
              "  .colab-df-quickchart:hover {\n",
              "    background-color: #E2EBFA;\n",
              "    box-shadow: 0px 1px 2px rgba(60, 64, 67, 0.3), 0px 1px 3px 1px rgba(60, 64, 67, 0.15);\n",
              "    fill: #174EA6;\n",
              "  }\n",
              "\n",
              "  [theme=dark] .colab-df-quickchart {\n",
              "    background-color: #3B4455;\n",
              "    fill: #D2E3FC;\n",
              "  }\n",
              "\n",
              "  [theme=dark] .colab-df-quickchart:hover {\n",
              "    background-color: #434B5C;\n",
              "    box-shadow: 0px 1px 3px 1px rgba(0, 0, 0, 0.15);\n",
              "    filter: drop-shadow(0px 1px 2px rgba(0, 0, 0, 0.3));\n",
              "    fill: #FFFFFF;\n",
              "  }\n",
              "</style>\n",
              "\n",
              "    <script>\n",
              "      async function quickchart(key) {\n",
              "        const containerElement = document.querySelector('#' + key);\n",
              "        const charts = await google.colab.kernel.invokeFunction(\n",
              "            'suggestCharts', [key], {});\n",
              "      }\n",
              "    </script>\n",
              "\n",
              "\n",
              "      <script>\n",
              "\n",
              "function displayQuickchartButton(domScope) {\n",
              "  let quickchartButtonEl =\n",
              "    domScope.querySelector('#df-6581dd07-eb69-496a-be31-23ce11f054af button.colab-df-quickchart');\n",
              "  quickchartButtonEl.style.display =\n",
              "    google.colab.kernel.accessAllowed ? 'block' : 'none';\n",
              "}\n",
              "\n",
              "        displayQuickchartButton(document);\n",
              "      </script>\n",
              "      <style>\n",
              "    .colab-df-container {\n",
              "      display:flex;\n",
              "      flex-wrap:wrap;\n",
              "      gap: 12px;\n",
              "    }\n",
              "\n",
              "    .colab-df-convert {\n",
              "      background-color: #E8F0FE;\n",
              "      border: none;\n",
              "      border-radius: 50%;\n",
              "      cursor: pointer;\n",
              "      display: none;\n",
              "      fill: #1967D2;\n",
              "      height: 32px;\n",
              "      padding: 0 0 0 0;\n",
              "      width: 32px;\n",
              "    }\n",
              "\n",
              "    .colab-df-convert:hover {\n",
              "      background-color: #E2EBFA;\n",
              "      box-shadow: 0px 1px 2px rgba(60, 64, 67, 0.3), 0px 1px 3px 1px rgba(60, 64, 67, 0.15);\n",
              "      fill: #174EA6;\n",
              "    }\n",
              "\n",
              "    [theme=dark] .colab-df-convert {\n",
              "      background-color: #3B4455;\n",
              "      fill: #D2E3FC;\n",
              "    }\n",
              "\n",
              "    [theme=dark] .colab-df-convert:hover {\n",
              "      background-color: #434B5C;\n",
              "      box-shadow: 0px 1px 3px 1px rgba(0, 0, 0, 0.15);\n",
              "      filter: drop-shadow(0px 1px 2px rgba(0, 0, 0, 0.3));\n",
              "      fill: #FFFFFF;\n",
              "    }\n",
              "  </style>\n",
              "\n",
              "      <script>\n",
              "        const buttonEl =\n",
              "          document.querySelector('#df-00abfec0-18e8-47e8-99ec-78fbe40b5472 button.colab-df-convert');\n",
              "        buttonEl.style.display =\n",
              "          google.colab.kernel.accessAllowed ? 'block' : 'none';\n",
              "\n",
              "        async function convertToInteractive(key) {\n",
              "          const element = document.querySelector('#df-00abfec0-18e8-47e8-99ec-78fbe40b5472');\n",
              "          const dataTable =\n",
              "            await google.colab.kernel.invokeFunction('convertToInteractive',\n",
              "                                                     [key], {});\n",
              "          if (!dataTable) return;\n",
              "\n",
              "          const docLinkHtml = 'Like what you see? Visit the ' +\n",
              "            '<a target=\"_blank\" href=https://colab.research.google.com/notebooks/data_table.ipynb>data table notebook</a>'\n",
              "            + ' to learn more about interactive tables.';\n",
              "          element.innerHTML = '';\n",
              "          dataTable['output_type'] = 'display_data';\n",
              "          await google.colab.output.renderOutput(dataTable, element);\n",
              "          const docLink = document.createElement('div');\n",
              "          docLink.innerHTML = docLinkHtml;\n",
              "          element.appendChild(docLink);\n",
              "        }\n",
              "      </script>\n",
              "    </div>\n",
              "  </div>\n"
            ]
          },
          "metadata": {},
          "execution_count": 47
        }
      ]
    },
    {
      "cell_type": "code",
      "source": [
        "nypdarrest.columns"
      ],
      "metadata": {
        "colab": {
          "base_uri": "https://localhost:8080/"
        },
        "id": "YqCyBoIU87sE",
        "outputId": "2ab78b7f-37ea-4ec5-d666-5bbea3bd6500"
      },
      "execution_count": 48,
      "outputs": [
        {
          "output_type": "execute_result",
          "data": {
            "text/plain": [
              "Index(['ARREST_KEY', 'ARREST_DATE', 'PD_CD', 'PD_DESC', 'KY_CD', 'OFNS_DESC',\n",
              "       'LAW_CODE', 'LAW_CAT_CD', 'ARREST_BORO', 'ARREST_PRECINCT',\n",
              "       'JURISDICTION_CODE', 'AGE_GROUP', 'PERP_SEX', 'PERP_RACE', 'X_COORD_CD',\n",
              "       'Y_COORD_CD', 'Latitude', 'Longitude', 'New Georeferenced Column',\n",
              "       'Community Districts', 'Borough Boundaries', 'City Council Districts',\n",
              "       'Police Precincts', 'Zip Codes'],\n",
              "      dtype='object')"
            ]
          },
          "metadata": {},
          "execution_count": 48
        }
      ]
    },
    {
      "cell_type": "code",
      "source": [
        "nypdarrest.columns[np.sum(nypdarrest.isnull()) != 0]"
      ],
      "metadata": {
        "colab": {
          "base_uri": "https://localhost:8080/"
        },
        "id": "-sgMiQZK9DOe",
        "outputId": "6013db6a-d178-41d1-d315-becbd4fa9d14"
      },
      "execution_count": 49,
      "outputs": [
        {
          "output_type": "execute_result",
          "data": {
            "text/plain": [
              "Index(['PD_CD', 'KY_CD', 'LAW_CAT_CD', 'Community Districts',\n",
              "       'Borough Boundaries', 'City Council Districts', 'Police Precincts',\n",
              "       'Zip Codes'],\n",
              "      dtype='object')"
            ]
          },
          "metadata": {},
          "execution_count": 49
        }
      ]
    },
    {
      "cell_type": "code",
      "source": [
        "# Checking for columns with missing values\n",
        "nypdarrest.columns[np.sum(nypdarrest.isnull()) != 0]"
      ],
      "metadata": {
        "colab": {
          "base_uri": "https://localhost:8080/"
        },
        "id": "C_q6Ldiq9SrD",
        "outputId": "43ff7b40-a3c2-48b2-acab-655ef705d5e9"
      },
      "execution_count": 50,
      "outputs": [
        {
          "output_type": "execute_result",
          "data": {
            "text/plain": [
              "Index(['PD_CD', 'KY_CD', 'LAW_CAT_CD', 'Community Districts',\n",
              "       'Borough Boundaries', 'City Council Districts', 'Police Precincts',\n",
              "       'Zip Codes'],\n",
              "      dtype='object')"
            ]
          },
          "metadata": {},
          "execution_count": 50
        }
      ]
    },
    {
      "cell_type": "code",
      "source": [
        "# Checking for columns with no missing values\n",
        "nypdarrest.columns[np.sum(nypdarrest.isnull()) == 0]"
      ],
      "metadata": {
        "colab": {
          "base_uri": "https://localhost:8080/"
        },
        "id": "RiZn2pPr9er5",
        "outputId": "255d0cf4-c56f-4574-b543-b8cc0c75537c"
      },
      "execution_count": 51,
      "outputs": [
        {
          "output_type": "execute_result",
          "data": {
            "text/plain": [
              "Index(['ARREST_KEY', 'ARREST_DATE', 'PD_DESC', 'OFNS_DESC', 'LAW_CODE',\n",
              "       'ARREST_BORO', 'ARREST_PRECINCT', 'JURISDICTION_CODE', 'AGE_GROUP',\n",
              "       'PERP_SEX', 'PERP_RACE', 'X_COORD_CD', 'Y_COORD_CD', 'Latitude',\n",
              "       'Longitude', 'New Georeferenced Column'],\n",
              "      dtype='object')"
            ]
          },
          "metadata": {},
          "execution_count": 51
        }
      ]
    },
    {
      "cell_type": "code",
      "source": [
        "# Checking for the number of unique values in each column\n",
        "for col in nypdarrest.columns:\n",
        "    unique_count = nypdarrest[col].nunique()\n",
        "    print(col + \" has \" + str(unique_count) + \" unique values\")"
      ],
      "metadata": {
        "colab": {
          "base_uri": "https://localhost:8080/"
        },
        "id": "PBT4fZAV9lP3",
        "outputId": "bec60662-b6f8-4e09-ad7a-d20c831dd6ed"
      },
      "execution_count": 52,
      "outputs": [
        {
          "output_type": "stream",
          "name": "stdout",
          "text": [
            "ARREST_KEY has 112571 unique values\n",
            "ARREST_DATE has 181 unique values\n",
            "PD_CD has 243 unique values\n",
            "PD_DESC has 233 unique values\n",
            "KY_CD has 66 unique values\n",
            "OFNS_DESC has 63 unique values\n",
            "LAW_CODE has 923 unique values\n",
            "LAW_CAT_CD has 5 unique values\n",
            "ARREST_BORO has 5 unique values\n",
            "ARREST_PRECINCT has 77 unique values\n",
            "JURISDICTION_CODE has 22 unique values\n",
            "AGE_GROUP has 5 unique values\n",
            "PERP_SEX has 3 unique values\n",
            "PERP_RACE has 7 unique values\n",
            "X_COORD_CD has 22160 unique values\n",
            "Y_COORD_CD has 23202 unique values\n",
            "Latitude has 26457 unique values\n",
            "Longitude has 26469 unique values\n",
            "New Georeferenced Column has 26963 unique values\n",
            "Community Districts has 71 unique values\n",
            "Borough Boundaries has 5 unique values\n",
            "City Council Districts has 51 unique values\n",
            "Police Precincts has 77 unique values\n",
            "Zip Codes has 205 unique values\n"
          ]
        }
      ]
    },
    {
      "cell_type": "markdown",
      "source": [
        "# **Let's answer some questions**"
      ],
      "metadata": {
        "id": "VjqLPLhPAOo-"
      }
    },
    {
      "cell_type": "code",
      "source": [
        "# What are the most common crimes in terms of offense group?\n",
        "nypdarrest.OFNS_DESC.value_counts()"
      ],
      "metadata": {
        "colab": {
          "base_uri": "https://localhost:8080/"
        },
        "id": "CrPWJdw8Bicn",
        "outputId": "3bd08b50-ac89-42d3-cbf7-71aa5bed7db5"
      },
      "execution_count": 53,
      "outputs": [
        {
          "output_type": "execute_result",
          "data": {
            "text/plain": [
              "ASSAULT 3 & RELATED OFFENSES      16619\n",
              "PETIT LARCENY                     12070\n",
              "FELONY ASSAULT                    10474\n",
              "DANGEROUS DRUGS                    7530\n",
              "MISCELLANEOUS PENAL LAW            7327\n",
              "                                  ...  \n",
              "PARKING OFFENSES                      3\n",
              "FELONY SEX CRIMES                     2\n",
              "DISRUPTION OF A RELIGIOUS SERV        2\n",
              "UNLAWFUL POSS. WEAP. ON SCHOOL        1\n",
              "ADMINISTRATIVE CODES                  1\n",
              "Name: OFNS_DESC, Length: 63, dtype: int64"
            ]
          },
          "metadata": {},
          "execution_count": 53
        }
      ]
    },
    {
      "cell_type": "code",
      "source": [
        "nypdarrest.OFNS_DESC.value_counts()[:10]"
      ],
      "metadata": {
        "colab": {
          "base_uri": "https://localhost:8080/"
        },
        "id": "Kj_fjaqGCG_D",
        "outputId": "f14f67bc-221b-44df-b9cd-e6abb114e378"
      },
      "execution_count": 102,
      "outputs": [
        {
          "output_type": "execute_result",
          "data": {
            "text/plain": [
              "ASSAULT 3 & RELATED OFFENSES      16619\n",
              "PETIT LARCENY                     12070\n",
              "FELONY ASSAULT                    10474\n",
              "DANGEROUS DRUGS                    7530\n",
              "MISCELLANEOUS PENAL LAW            7327\n",
              "VEHICLE AND TRAFFIC LAWS           6612\n",
              "CRIMINAL MISCHIEF & RELATED OF     5515\n",
              "ROBBERY                            5368\n",
              "GRAND LARCENY                      5074\n",
              "DANGEROUS WEAPONS                  4639\n",
              "Name: OFNS_DESC, dtype: int64"
            ]
          },
          "metadata": {},
          "execution_count": 102
        }
      ]
    },
    {
      "cell_type": "code",
      "source": [
        "#With barh chart representation\n",
        "nypdarrest.OFNS_DESC.value_counts().iloc[:10].sort_values().plot(kind=\"barh\", title = \"Types of Crimes\")"
      ],
      "metadata": {
        "colab": {
          "base_uri": "https://localhost:8080/",
          "height": 469
        },
        "id": "DYX0gKZCEZ3u",
        "outputId": "d9523d7f-8a43-483c-d9b0-cdc845596b2b"
      },
      "execution_count": 57,
      "outputs": [
        {
          "output_type": "execute_result",
          "data": {
            "text/plain": [
              "<Axes: title={'center': 'Types of Crimes'}>"
            ]
          },
          "metadata": {},
          "execution_count": 57
        },
        {
          "output_type": "display_data",
          "data": {
            "text/plain": [
              "<Figure size 640x480 with 1 Axes>"
            ],
            "image/png": "[encoded data removed]"
          },
          "metadata": {}
        }
      ]
    },
    {
      "cell_type": "code",
      "source": [
        "nypdarrest.shape[0]"
      ],
      "metadata": {
        "colab": {
          "base_uri": "https://localhost:8080/"
        },
        "id": "9MhbASUiCdNH",
        "outputId": "e1722d2d-0fe8-459d-a457-69c21da6017a"
      },
      "execution_count": 55,
      "outputs": [
        {
          "output_type": "execute_result",
          "data": {
            "text/plain": [
              "112571"
            ]
          },
          "metadata": {},
          "execution_count": 55
        }
      ]
    },
    {
      "cell_type": "code",
      "source": [
        "crime_offense_vals = nypdarrest.OFNS_DESC.value_counts()[:10]\n",
        "\n",
        "display(crime_offense_vals / nypdarrest.shape[0])\n",
        "\n",
        "# Creating a bar chart of the Top 10 offense groups as %\n",
        "(crime_offense_vals / nypdarrest.shape[0]).plot(kind='bar');\n",
        "plot.title('Top 10 Offense Groups (as % of all crimes)');"
      ],
      "metadata": {
        "colab": {
          "base_uri": "https://localhost:8080/",
          "height": 872
        },
        "id": "WifHxR1dCsYZ",
        "outputId": "4bd8e6a7-7a57-46d4-b8b3-06883bc1c632"
      },
      "execution_count": 61,
      "outputs": [
        {
          "output_type": "display_data",
          "data": {
            "text/plain": [
              "ASSAULT 3 & RELATED OFFENSES      0.147631\n",
              "PETIT LARCENY                     0.107221\n",
              "FELONY ASSAULT                    0.093044\n",
              "DANGEROUS DRUGS                   0.066891\n",
              "MISCELLANEOUS PENAL LAW           0.065088\n",
              "VEHICLE AND TRAFFIC LAWS          0.058736\n",
              "CRIMINAL MISCHIEF & RELATED OF    0.048991\n",
              "ROBBERY                           0.047685\n",
              "GRAND LARCENY                     0.045074\n",
              "DANGEROUS WEAPONS                 0.041210\n",
              "Name: OFNS_DESC, dtype: float64"
            ]
          },
          "metadata": {}
        },
        {
          "output_type": "display_data",
          "data": {
            "text/plain": [
              "<Figure size 640x480 with 1 Axes>"
            ],
            "image/png": "[encoded data removed]"
          },
          "metadata": {}
        }
      ]
    },
    {
      "cell_type": "code",
      "source": [
        "# What are the least common offense groups?\n",
        "nypdarrest.OFNS_DESC.value_counts().sort_values(ascending=True)[:10]"
      ],
      "metadata": {
        "colab": {
          "base_uri": "https://localhost:8080/"
        },
        "id": "BKfRW4iyD9za",
        "outputId": "ff8dee6b-c928-48bd-cbc0-0326ce7952ef"
      },
      "execution_count": 63,
      "outputs": [
        {
          "output_type": "execute_result",
          "data": {
            "text/plain": [
              "ADMINISTRATIVE CODES                 1\n",
              "UNLAWFUL POSS. WEAP. ON SCHOOL       1\n",
              "FELONY SEX CRIMES                    2\n",
              "DISRUPTION OF A RELIGIOUS SERV       2\n",
              "PARKING OFFENSES                     3\n",
              "ESCAPE 3                             4\n",
              "KIDNAPPING                           6\n",
              "OTHER STATE LAWS (NON PENAL LAW)     6\n",
              "ANTICIPATORY OFFENSES               11\n",
              "MOVING INFRACTIONS                  14\n",
              "Name: OFNS_DESC, dtype: int64"
            ]
          },
          "metadata": {},
          "execution_count": 63
        }
      ]
    },
    {
      "cell_type": "code",
      "source": [
        "crime_with_least_offense_vals = nypdarrest.OFNS_DESC.value_counts().sort_values(ascending=True)[:10]\n",
        "\n",
        "display(crime_with_least_offense_vals / nypdarrest.shape[0])\n",
        "\n",
        "# Creating a bar chart of the Top 10 least offense groups as %\n",
        "(crime_with_least_offense_vals / nypdarrest.shape[0]).plot(kind='bar');\n",
        "plot.title('Lowest 10 Offense Groups (as % of all crimes)');"
      ],
      "metadata": {
        "colab": {
          "base_uri": "https://localhost:8080/",
          "height": 898
        },
        "id": "Nr9zySg-jMsc",
        "outputId": "e5d04396-3a04-48e3-e578-095a0b5a6bc3"
      },
      "execution_count": 64,
      "outputs": [
        {
          "output_type": "display_data",
          "data": {
            "text/plain": [
              "ADMINISTRATIVE CODES                0.000009\n",
              "UNLAWFUL POSS. WEAP. ON SCHOOL      0.000009\n",
              "FELONY SEX CRIMES                   0.000018\n",
              "DISRUPTION OF A RELIGIOUS SERV      0.000018\n",
              "PARKING OFFENSES                    0.000027\n",
              "ESCAPE 3                            0.000036\n",
              "KIDNAPPING                          0.000053\n",
              "OTHER STATE LAWS (NON PENAL LAW)    0.000053\n",
              "ANTICIPATORY OFFENSES               0.000098\n",
              "MOVING INFRACTIONS                  0.000124\n",
              "Name: OFNS_DESC, dtype: float64"
            ]
          },
          "metadata": {}
        },
        {
          "output_type": "display_data",
          "data": {
            "text/plain": [
              "<Figure size 640x480 with 1 Axes>"
            ],
            "image/png": "[encoded data removed]"
          },
          "metadata": {}
        }
      ]
    },
    {
      "cell_type": "code",
      "source": [
        "#I am using the following command to change the date data type from object to datetime and extract the month and year.\n",
        "\n",
        "nypdarrest['ARREST_DATE'] = pd.to_datetime(nypdarrest['ARREST_DATE'])\n",
        "nypdarrest['year'] = pd.DatetimeIndex(nypdarrest['ARREST_DATE']).year\n",
        "nypdarrest['month'] = pd.DatetimeIndex(nypdarrest['ARREST_DATE']).month"
      ],
      "metadata": {
        "id": "ObpyR4sKUgnI"
      },
      "execution_count": 65,
      "outputs": []
    },
    {
      "cell_type": "code",
      "source": [
        "# In which month were the most crimes committed?\n",
        "\n",
        "#I apply the replace function to change the month digits to names. Also applied the \"inplace = True\" function to overrite the data permenantly.\n",
        "nypdarrest.replace({'month': {1:' January', 2: 'February',3:' March',4:' Avril',5:' May', 6:' June'}}, inplace=True)"
      ],
      "metadata": {
        "id": "jLAsFrxqGua0"
      },
      "execution_count": 68,
      "outputs": []
    },
    {
      "cell_type": "code",
      "source": [
        "#Total arrest made by month\n",
        "nypdarrest.groupby('month').count()['ARREST_KEY']"
      ],
      "metadata": {
        "colab": {
          "base_uri": "https://localhost:8080/"
        },
        "id": "hY6s6NZDYB_v",
        "outputId": "67a35e93-cf9c-4efc-ae5c-7936d73986b4"
      },
      "execution_count": 90,
      "outputs": [
        {
          "output_type": "execute_result",
          "data": {
            "text/plain": [
              "month\n",
              " Avril      18302\n",
              " January    18815\n",
              " June       19488\n",
              " March      19029\n",
              " May        20196\n",
              "February    16741\n",
              "Name: ARREST_KEY, dtype: int64"
            ]
          },
          "metadata": {},
          "execution_count": 90
        }
      ]
    },
    {
      "cell_type": "code",
      "source": [
        "nypdarrest.groupby('month').size().plot(kind = 'bar', title ='Total Arrest by Month', color = '#C0392B',rot=0)"
      ],
      "metadata": {
        "colab": {
          "base_uri": "https://localhost:8080/",
          "height": 489
        },
        "id": "CL-sd4GYPy0l",
        "outputId": "c6c77c73-28be-4bf8-d833-b014435bb52f"
      },
      "execution_count": 69,
      "outputs": [
        {
          "output_type": "execute_result",
          "data": {
            "text/plain": [
              "<Axes: title={'center': 'Total Arrest by Month'}, xlabel='month'>"
            ]
          },
          "metadata": {},
          "execution_count": 69
        },
        {
          "output_type": "display_data",
          "data": {
            "text/plain": [
              "<Figure size 640x480 with 1 Axes>"
            ],
            "image/png": "[encoded data removed]"
          },
          "metadata": {}
        }
      ]
    },
    {
      "cell_type": "code",
      "source": [
        "nypdarrest['month'].value_counts().plot(kind=\"line\", title = \"Total Arrest made by Month\")"
      ],
      "metadata": {
        "colab": {
          "base_uri": "https://localhost:8080/",
          "height": 469
        },
        "id": "sewpteioFsMl",
        "outputId": "7964c1ed-554c-41a4-f796-21bdbae5b445"
      },
      "execution_count": 105,
      "outputs": [
        {
          "output_type": "execute_result",
          "data": {
            "text/plain": [
              "<Axes: title={'center': 'Total Arrest made by Month'}>"
            ]
          },
          "metadata": {},
          "execution_count": 105
        },
        {
          "output_type": "display_data",
          "data": {
            "text/plain": [
              "<Figure size 640x480 with 1 Axes>"
            ],
            "image/png": "[encoded data removed]"
          },
          "metadata": {}
        }
      ]
    },
    {
      "cell_type": "code",
      "source": [
        "# In which months were the number of crimes below average?\n",
        "# In which months on average did the most crimes occur?\n",
        "# if the value is less than the average crime per month, highlight the value in blue\n",
        "\n",
        "avg_offense = nypdarrest.groupby(['year', 'month']).count()['ARREST_KEY'].mean()\n",
        "print(\"The average number of arrest made is \" + str(avg_offense))\n",
        "\n",
        "year_and_month = nypdarrest.groupby(['year', 'month']).count()['ARREST_KEY'].unstack()\n",
        "\n",
        "def style_negative(v, props=''):\n",
        "    return props if v < avg_offense else None\n",
        "s2 = year_and_month.style.applymap(style_negative, props='color:blue;')\\\n",
        "              .applymap(lambda v: 'opacity: 20%;' if (v < 0.3) and (v > -0.3) else None)\n",
        "s2"
      ],
      "metadata": {
        "colab": {
          "base_uri": "https://localhost:8080/",
          "height": 129
        },
        "id": "1TaSUUZn-dRo",
        "outputId": "677812d5-f9fd-4e7b-f423-886203500e36"
      },
      "execution_count": 106,
      "outputs": [
        {
          "output_type": "stream",
          "name": "stdout",
          "text": [
            "The average number of arrest made is 18761.833333333332\n"
          ]
        },
        {
          "output_type": "execute_result",
          "data": {
            "text/plain": [
              "<pandas.io.formats.style.Styler at 0x7e8ff45d6200>"
            ],
            "text/html": [
              "<style type=\"text/css\">\n",
              "#T_ffec0_row0_col0, #T_ffec0_row0_col5 {\n",
              "  color: blue;\n",
              "}\n",
              "</style>\n",
              "<table id=\"T_ffec0\" class=\"dataframe\">\n",
              "  <thead>\n",
              "    <tr>\n",
              "      <th class=\"index_name level0\" >month</th>\n",
              "      <th id=\"T_ffec0_level0_col0\" class=\"col_heading level0 col0\" > Avril</th>\n",
              "      <th id=\"T_ffec0_level0_col1\" class=\"col_heading level0 col1\" > January</th>\n",
              "      <th id=\"T_ffec0_level0_col2\" class=\"col_heading level0 col2\" > June</th>\n",
              "      <th id=\"T_ffec0_level0_col3\" class=\"col_heading level0 col3\" > March</th>\n",
              "      <th id=\"T_ffec0_level0_col4\" class=\"col_heading level0 col4\" > May</th>\n",
              "      <th id=\"T_ffec0_level0_col5\" class=\"col_heading level0 col5\" >February</th>\n",
              "    </tr>\n",
              "    <tr>\n",
              "      <th class=\"index_name level0\" >year</th>\n",
              "      <th class=\"blank col0\" >&nbsp;</th>\n",
              "      <th class=\"blank col1\" >&nbsp;</th>\n",
              "      <th class=\"blank col2\" >&nbsp;</th>\n",
              "      <th class=\"blank col3\" >&nbsp;</th>\n",
              "      <th class=\"blank col4\" >&nbsp;</th>\n",
              "      <th class=\"blank col5\" >&nbsp;</th>\n",
              "    </tr>\n",
              "  </thead>\n",
              "  <tbody>\n",
              "    <tr>\n",
              "      <th id=\"T_ffec0_level0_row0\" class=\"row_heading level0 row0\" >2023</th>\n",
              "      <td id=\"T_ffec0_row0_col0\" class=\"data row0 col0\" >18302</td>\n",
              "      <td id=\"T_ffec0_row0_col1\" class=\"data row0 col1\" >18815</td>\n",
              "      <td id=\"T_ffec0_row0_col2\" class=\"data row0 col2\" >19488</td>\n",
              "      <td id=\"T_ffec0_row0_col3\" class=\"data row0 col3\" >19029</td>\n",
              "      <td id=\"T_ffec0_row0_col4\" class=\"data row0 col4\" >20196</td>\n",
              "      <td id=\"T_ffec0_row0_col5\" class=\"data row0 col5\" >16741</td>\n",
              "    </tr>\n",
              "  </tbody>\n",
              "</table>\n"
            ]
          },
          "metadata": {},
          "execution_count": 106
        }
      ]
    },
    {
      "cell_type": "code",
      "source": [
        "#what is the monthly offense number by borough?\n",
        "\n",
        "boro_monthly_offense = nypdarrest.groupby(['ARREST_BORO','month']).count()['ARREST_KEY'].unstack()"
      ],
      "metadata": {
        "id": "vX08xq_kpfKn"
      },
      "execution_count": 84,
      "outputs": []
    },
    {
      "cell_type": "code",
      "source": [
        "boro_monthly_offense.columns = [' Avril', ' January', ' June', ' March', ' May', 'February']"
      ],
      "metadata": {
        "id": "Pev1wYdc5DIf"
      },
      "execution_count": 81,
      "outputs": []
    },
    {
      "cell_type": "code",
      "source": [
        "nypdarrest.groupby('ARREST_BORO').count()['ARREST_KEY']"
      ],
      "metadata": {
        "colab": {
          "base_uri": "https://localhost:8080/"
        },
        "id": "gMnkfU7ER169",
        "outputId": "49814cc1-b995-4b31-f15c-7c88c82cb781"
      },
      "execution_count": 93,
      "outputs": [
        {
          "output_type": "execute_result",
          "data": {
            "text/plain": [
              "ARREST_BORO\n",
              "Bronx            26757\n",
              "Brooklyn         31104\n",
              "Manhattan        25902\n",
              "Queens           23922\n",
              "Staten Island     4886\n",
              "Name: ARREST_KEY, dtype: int64"
            ]
          },
          "metadata": {},
          "execution_count": 93
        }
      ]
    },
    {
      "cell_type": "code",
      "source": [
        "sns.heatmap(boro_monthly_offense,cmap=sns.cubehelix_palette(as_cmap=True));"
      ],
      "metadata": {
        "colab": {
          "base_uri": "https://localhost:8080/",
          "height": 449
        },
        "id": "gdHsl8J85VoK",
        "outputId": "02c334f0-2985-4679-ff5d-adc0bbaa108b"
      },
      "execution_count": 85,
      "outputs": [
        {
          "output_type": "display_data",
          "data": {
            "text/plain": [
              "<Figure size 640x480 with 2 Axes>"
            ],
            "image/png": "[encoded data removed]"
          },
          "metadata": {}
        }
      ]
    },
    {
      "cell_type": "code",
      "source": [
        "# In which districts were the most crimes commmitted on yearly basis?\n",
        "# Try and use everything you've learned in this video to answer this question.\n",
        "# Feel free to use functions, tables and other visuals.\n",
        "\n",
        "#district_and_year = nypdarrest.groupby(['Community Districts', 'month']).count()['ARREST_KEY'].unstack()\n",
        "\n",
        "#sns.heatmap(district_and_year, cmap=sns.cubehelix_palette(as_cmap=True));\n",
        "\n",
        "#district_and_year.value_counts().iloc[:10].sort_values().plot(kind=\"barh\", title = \"Types of Crimes\")"
      ],
      "metadata": {
        "id": "W8bvu31sAEw4"
      },
      "execution_count": 103,
      "outputs": []
    },
    {
      "cell_type": "code",
      "source": [
        "# What is the highest offense made by age group?\n",
        "\n",
        "nypdarrest.groupby('AGE_GROUP').count()['ARREST_KEY']"
      ],
      "metadata": {
        "colab": {
          "base_uri": "https://localhost:8080/"
        },
        "id": "SBrhi3zEotJG",
        "outputId": "eed38259-fc1c-4e5d-f9b8-e739279a8cc7"
      },
      "execution_count": 58,
      "outputs": [
        {
          "output_type": "execute_result",
          "data": {
            "text/plain": [
              "AGE_GROUP\n",
              "18-24    19682\n",
              "25-44    64823\n",
              "45-64    22058\n",
              "65+       1766\n",
              "<18       4242\n",
              "Name: ARREST_KEY, dtype: int64"
            ]
          },
          "metadata": {},
          "execution_count": 58
        }
      ]
    },
    {
      "cell_type": "code",
      "source": [
        "nypdarrest['AGE_GROUP'].value_counts().sort_values().plot(kind=\"barh\", color = '#1ABC9C', title = 'Total Arrest Made by Age Group')"
      ],
      "metadata": {
        "colab": {
          "base_uri": "https://localhost:8080/",
          "height": 469
        },
        "id": "9-7W5tG9XPra",
        "outputId": "070d5b3c-5930-4aba-c44a-92186f0989f1"
      },
      "execution_count": 111,
      "outputs": [
        {
          "output_type": "execute_result",
          "data": {
            "text/plain": [
              "<Axes: title={'center': 'Total Arrest Made by Age Group'}>"
            ]
          },
          "metadata": {},
          "execution_count": 111
        },
        {
          "output_type": "display_data",
          "data": {
            "text/plain": [
              "<Figure size 640x480 with 1 Axes>"
            ],
            "image/png": "[encoded data removed]"
          },
          "metadata": {}
        }
      ]
    },
    {
      "cell_type": "code",
      "source": [
        "# How many offenses made by gender?\n",
        "\n",
        "nypdarrest.replace({'PERP_SEX': {'F':'Female', 'M': 'Male','U':'Unknow'}}, inplace=True)\n",
        "nypdarrest.groupby('PERP_SEX').count()['ARREST_KEY']"
      ],
      "metadata": {
        "colab": {
          "base_uri": "https://localhost:8080/"
        },
        "id": "HVcBftQho4QV",
        "outputId": "aeb3d537-3468-475b-aad4-f06ea09389f3"
      },
      "execution_count": 19,
      "outputs": [
        {
          "output_type": "execute_result",
          "data": {
            "text/plain": [
              "PERP_SEX\n",
              "Female    18975\n",
              "Male      90596\n",
              "Unknow     3000\n",
              "Name: ARREST_KEY, dtype: int64"
            ]
          },
          "metadata": {},
          "execution_count": 19
        }
      ]
    },
    {
      "cell_type": "code",
      "source": [
        "nypdarrest.groupby('PERP_SEX').size().plot(kind = 'bar', title ='Arrest occured by Gender', color = '#E67E22', xlabel = 'Gender',rot=0)"
      ],
      "metadata": {
        "colab": {
          "base_uri": "https://localhost:8080/",
          "height": 489
        },
        "id": "zpXVZcmiS5bW",
        "outputId": "f4939651-9861-4abd-b41b-dd4ddcd19497"
      },
      "execution_count": 20,
      "outputs": [
        {
          "output_type": "execute_result",
          "data": {
            "text/plain": [
              "<Axes: title={'center': 'Arrest occured by Gender'}, xlabel='Gender'>"
            ]
          },
          "metadata": {},
          "execution_count": 20
        },
        {
          "output_type": "display_data",
          "data": {
            "text/plain": [
              "<Figure size 640x480 with 1 Axes>"
            ],
            "image/png": "[encoded data removed]"
          },
          "metadata": {}
        }
      ]
    },
    {
      "cell_type": "code",
      "source": [
        "# How many offenses made by race?\n",
        "\n",
        "nypdarrest.groupby('PERP_RACE').count()['ARREST_KEY']"
      ],
      "metadata": {
        "colab": {
          "base_uri": "https://localhost:8080/"
        },
        "id": "BVmdju6xpJlN",
        "outputId": "286a9346-220f-401a-e76d-621e8a156a2d"
      },
      "execution_count": 60,
      "outputs": [
        {
          "output_type": "execute_result",
          "data": {
            "text/plain": [
              "PERP_RACE\n",
              "AMERICAN INDIAN/ALASKAN NATIVE      356\n",
              "ASIAN / PACIFIC ISLANDER           5995\n",
              "BLACK                             54083\n",
              "BLACK HISPANIC                    10612\n",
              "UNKNOWN                            2019\n",
              "WHITE                             10970\n",
              "WHITE HISPANIC                    28536\n",
              "Name: ARREST_KEY, dtype: int64"
            ]
          },
          "metadata": {},
          "execution_count": 60
        }
      ]
    },
    {
      "cell_type": "code",
      "source": [
        "nypdarrest.PERP_RACE.value_counts().iloc[:10].sort_values().plot(kind=\"barh\", title = \"Types of Arrest Occurent by Race\")"
      ],
      "metadata": {
        "colab": {
          "base_uri": "https://localhost:8080/",
          "height": 469
        },
        "id": "jXj0y1pxVxVT",
        "outputId": "d230f075-6e86-4273-97ac-3d8fcb3717d5"
      },
      "execution_count": 21,
      "outputs": [
        {
          "output_type": "execute_result",
          "data": {
            "text/plain": [
              "<Axes: title={'center': 'Types of Arrest Occurent by Race'}>"
            ]
          },
          "metadata": {},
          "execution_count": 21
        },
        {
          "output_type": "display_data",
          "data": {
            "text/plain": [
              "<Figure size 640x480 with 1 Axes>"
            ],
            "image/png": "[encoded data removed]"
          },
          "metadata": {}
        }
      ]
    },
    {
      "cell_type": "code",
      "source": [
        "nypdarrest.columns"
      ],
      "metadata": {
        "colab": {
          "base_uri": "https://localhost:8080/"
        },
        "id": "Pg-Ij07BTUdO",
        "outputId": "596187d6-a003-4085-888f-eead80625450"
      },
      "execution_count": 124,
      "outputs": [
        {
          "output_type": "execute_result",
          "data": {
            "text/plain": [
              "Index(['ARREST_KEY', 'ARREST_DATE', 'PD_CD', 'PD_DESC', 'KY_CD', 'OFNS_DESC',\n",
              "       'LAW_CODE', 'LAW_CAT_CD', 'ARREST_BORO', 'ARREST_PRECINCT',\n",
              "       'JURISDICTION_CODE', 'AGE_GROUP', 'PERP_SEX', 'PERP_RACE', 'X_COORD_CD',\n",
              "       'Y_COORD_CD', 'Latitude', 'Longitude', 'New Georeferenced Column',\n",
              "       'Community Districts', 'Borough Boundaries', 'City Council Districts',\n",
              "       'Police Precincts', 'Zip Codes', 'year', 'month'],\n",
              "      dtype='object')"
            ]
          },
          "metadata": {},
          "execution_count": 124
        }
      ]
    }
  ],
  "metadata": {
    "colab": {
      "provenance": [],
      "authorship_tag": "ABX9TyNvv9G3BdMh1tzU+GZBILd+",
      "include_colab_link": true
    },
    "kernelspec": {
      "display_name": "Python 3",
      "name": "python3"
    },
    "language_info": {
      "name": "python"
    }
  },
  "nbformat": 4,
  "nbformat_minor": 0
}